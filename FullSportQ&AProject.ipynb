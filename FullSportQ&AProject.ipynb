{
  "nbformat": 4,
  "nbformat_minor": 0,
  "metadata": {
    "colab": {
      "provenance": []
    },
    "kernelspec": {
      "name": "python3",
      "display_name": "Python 3"
    },
    "language_info": {
      "name": "python"
    }
  },
  "cells": [
    {
      "cell_type": "markdown",
      "source": [
        "In this notebook we create a Q&A AI for sports questions"
      ],
      "metadata": {
        "id": "Xy8dxysl0PNm"
      }
    },
    {
      "cell_type": "markdown",
      "source": [
        "# Imports"
      ],
      "metadata": {
        "id": "nZqyU7fkpdQH"
      }
    },
    {
      "cell_type": "code",
      "execution_count": null,
      "metadata": {
        "id": "TlG5pt8xoxse"
      },
      "outputs": [],
      "source": [
        "!pip install unidecode\n",
        "!pip install sentence-transformers\n",
        "!pip install datasets\n",
        "!pip install nltk\n",
        "!pip install transformers torch\n",
        "!pip install evaluate"
      ]
    },
    {
      "cell_type": "code",
      "source": [
        "import pandas as pd\n",
        "import numpy as np\n",
        "import matplotlib.pyplot as plt\n",
        "import seaborn as sns\n",
        "from numpy import savetxt\n",
        "import json\n",
        "from json import JSONEncoder\n",
        "import gzip\n",
        "import ast\n",
        "from sentence_transformers import SentenceTransformer, util\n",
        "import time\n",
        "import torch\n",
        "from transformers import RobertaTokenizerFast, RobertaForQuestionAnswering\n",
        "from transformers import PegasusTokenizer, PegasusForConditionalGeneration\n",
        "from transformers import Trainer, TrainingArguments, default_data_collator\n",
        "from unidecode import unidecode\n",
        "import string\n",
        "import re\n",
        "from sklearn.feature_extraction.text import CountVectorizer, TfidfVectorizer\n",
        "from sklearn.metrics import f1_score, recall_score, accuracy_score, precision_score\n",
        "import heapq\n",
        "from collections import defaultdict\n",
        "import pickle\n",
        "import spacy\n",
        "spacy_model = spacy.load('en_core_web_sm')\n",
        "import ipywidgets as widgets\n",
        "from IPython.display import display, clear_output, HTML\n",
        "\n",
        "import nltk\n",
        "from nltk.tokenize import sent_tokenize, word_tokenize, roc_curve, auc\n",
        "from nltk.corpus import words, stopwords\n",
        "from nltk.stem import WordNetLemmatizer\n",
        "from nltk.util import ngrams\n",
        "nltk.download('punkt_tab')\n",
        "nltk.download('stopwords')\n",
        "nltk.download('punkt')\n",
        "nltk.download('wordnet')\n",
        "nltk.download('omw-1.4')\n",
        "nltk.download('words')\n",
        "\n",
        "from datasets import Dataset, load_dataset\n",
        "import requests\n",
        "import evaluate\n",
        "\n",
        "from google.colab import drive\n",
        "drive.mount('/content/drive')"
      ],
      "metadata": {
        "id": "B9yD3YwdvUDq"
      },
      "execution_count": null,
      "outputs": []
    },
    {
      "cell_type": "markdown",
      "source": [
        "# Data Gathering"
      ],
      "metadata": {
        "id": "HNJGEkDvxG2X"
      }
    },
    {
      "cell_type": "markdown",
      "source": [
        "## Wiki Data"
      ],
      "metadata": {
        "id": "EdYIEloUo-G_"
      }
    },
    {
      "cell_type": "markdown",
      "metadata": {
        "id": "MkNcSnwBvqj6"
      },
      "source": [
        "### Wiki Web Scarping"
      ]
    },
    {
      "cell_type": "code",
      "source": [
        "# Get title and return the wikipia page in the same name (if exists)\n",
        "def wikipedia_page(title):\n",
        "    params = {\n",
        "        'action': 'query',            # extract data from wiki\n",
        "        'format': 'json',             # file format set to json\n",
        "        'titles': title,              # wiki page title\n",
        "        'prop': 'extracts',           # asking for text\n",
        "        'explaintext': True           # asking for simple text, not HTML format\n",
        "    }\n",
        "\n",
        "    # Contact wiki page\n",
        "    response = requests.get(\n",
        "         'https://en.wikipedia.org/w/api.php',\n",
        "         params= params\n",
        "     ).json()\n",
        "\n",
        "    page = next(iter(response['query']['pages'].values()))\n",
        "    # If page found, extract text and return it\n",
        "    if 'extract' in page.keys():\n",
        "        return page['extract']\n",
        "    else:\n",
        "        # If page not found\n",
        "        return \"Page not found\""
      ],
      "metadata": {
        "id": "RJDFbynZx6L1"
      },
      "execution_count": null,
      "outputs": []
    },
    {
      "cell_type": "code",
      "execution_count": null,
      "metadata": {
        "id": "TeEvM7uQBf3k"
      },
      "outputs": [],
      "source": [
        "# Get list and length and keep only organs that shorter than the length\n",
        "def remove_too_long(lst,long):\n",
        "  new_list=[]\n",
        "  for i in lst:\n",
        "    if len(i) < long:\n",
        "      new_list.append(i)\n",
        "  return new_list"
      ]
    },
    {
      "cell_type": "code",
      "execution_count": null,
      "metadata": {
        "colab": {
          "base_uri": "https://localhost:8080/"
        },
        "id": "G0hCJ3QHOKTA",
        "outputId": "be067eaf-5aa6-4a54-d314-a7b9adec4e1b"
      },
      "outputs": [
        {
          "data": {
            "text/plain": [
              "17415"
            ]
          },
          "execution_count": 46,
          "metadata": {},
          "output_type": "execute_result"
        }
      ],
      "source": [
        "# Get the main page from wikipedia\n",
        "text = wikipedia_page(\"List of sports\")\n",
        "len(text)"
      ]
    },
    {
      "cell_type": "code",
      "execution_count": null,
      "metadata": {
        "colab": {
          "base_uri": "https://localhost:8080/"
        },
        "id": "VndhGh5uOPP-",
        "outputId": "38f8023f-bd87-4b97-d197-e73a930194fe"
      },
      "outputs": [
        {
          "name": "stdout",
          "output_type": "stream",
          "text": [
            "the len of the original is 1325\n"
          ]
        }
      ],
      "source": [
        "# Divide our page into the titels\n",
        "lines = text.split(\"\\n\")\n",
        "print(\"the len of the original is\",len(lines))"
      ]
    },
    {
      "cell_type": "code",
      "execution_count": null,
      "metadata": {
        "colab": {
          "base_uri": "https://localhost:8080/"
        },
        "id": "EWTElXB_wFLP",
        "outputId": "87d8e6ff-2340-42b7-bf5c-7340d478c6c9"
      },
      "outputs": [
        {
          "name": "stdout",
          "output_type": "stream",
          "text": [
            "the len after delete is 1007\n"
          ]
        }
      ],
      "source": [
        "# Remove the empty lines from the text\n",
        "lines = [item for item in lines if item != \"\"]\n",
        "print(\"the len after delete is\",len(lines))"
      ]
    },
    {
      "cell_type": "code",
      "execution_count": null,
      "metadata": {
        "colab": {
          "base_uri": "https://localhost:8080/"
        },
        "id": "PdYwzr2_CB4j",
        "outputId": "7779d2d9-f1c8-48a2-c75c-ec46cc4edf91"
      },
      "outputs": [
        {
          "name": "stdout",
          "output_type": "stream",
          "text": [
            "the len after delete is 975\n"
          ]
        }
      ],
      "source": [
        "# Delete the too long lines from the text (they  are not titles)\n",
        "lines = remove_too_long(lines,40)\n",
        "print(\"the len after delete is\",len(lines))"
      ]
    },
    {
      "cell_type": "code",
      "execution_count": null,
      "metadata": {
        "id": "pPZP0GkYClox"
      },
      "outputs": [],
      "source": [
        "# Return list of all the categories in the text\n",
        "def give_titles(lst):\n",
        "  result=[]\n",
        "  for i in lst:\n",
        "    if \"==\" in i:\n",
        "      result.append(i)\n",
        "  return result"
      ]
    },
    {
      "cell_type": "code",
      "execution_count": null,
      "metadata": {
        "id": "SoyAfRqoC4Lh"
      },
      "outputs": [],
      "source": [
        "# Get titles\n",
        "titles = give_titles(lines)"
      ]
    },
    {
      "cell_type": "code",
      "execution_count": null,
      "metadata": {
        "id": "icA63gEGC8FH"
      },
      "outputs": [],
      "source": [
        "# Remove all the appereance of the char in lst\n",
        "def remove_char(char, lst):\n",
        "  return [sentence.replace(char, \"\") for sentence in lst]"
      ]
    },
    {
      "cell_type": "code",
      "execution_count": null,
      "metadata": {
        "id": "17snfWDtDYDP"
      },
      "outputs": [],
      "source": [
        "# Remove \" \" and \"=\"\n",
        "titles = remove_char(\"=\",titles)\n",
        "titles = remove_char(\" \",titles)"
      ]
    },
    {
      "cell_type": "code",
      "execution_count": null,
      "metadata": {
        "id": "t-xbhlfKDdIm"
      },
      "outputs": [],
      "source": [
        "# Get list of text and return list of lists that contain the groups\n",
        "def divide_to_groups(lines):\n",
        "  temp = []\n",
        "  result = []\n",
        "\n",
        "  for line in lines:\n",
        "    if \"==\" in line: # If is title\n",
        "      result.append(temp)\n",
        "      temp=[]\n",
        "    else:\n",
        "      temp.append(line)\n",
        "  result.append(temp)\n",
        "  del result[0]\n",
        "  return result"
      ]
    },
    {
      "cell_type": "code",
      "execution_count": null,
      "metadata": {
        "id": "e0lkGHlNEJJt"
      },
      "outputs": [],
      "source": [
        "# Create subjects list\n",
        "subjects = divide_to_groups(lines)"
      ]
    },
    {
      "cell_type": "code",
      "execution_count": null,
      "metadata": {
        "id": "eTS6r8e_FpkE"
      },
      "outputs": [],
      "source": [
        "# Create list containing titles in odd spots and subjects in even spots\n",
        "title_lst = []\n",
        "sport_lst = []\n",
        "for i in range(len(titles)):\n",
        "  for j in range(len(subjects[i])):\n",
        "    title_lst.append(titles[i])\n",
        "    sport_lst.append(subjects[i][j])"
      ]
    },
    {
      "cell_type": "code",
      "execution_count": null,
      "metadata": {
        "id": "vQp8ar9bcMWJ"
      },
      "outputs": [],
      "source": [
        "# Create the basic dataFrame (no pages at this point)\n",
        "df = pd.DataFrame({'sport_type': title_lst, 'sport_name': sport_lst})"
      ]
    },
    {
      "cell_type": "code",
      "execution_count": null,
      "metadata": {
        "id": "6UCHZb4Jcgut"
      },
      "outputs": [],
      "source": [
        "# Delete all not titles (see also titles)\n",
        "df = df.loc[df['sport_type'] != \"Seealso\"]"
      ]
    },
    {
      "cell_type": "code",
      "execution_count": null,
      "metadata": {
        "id": "CWMgGJtFfEqi"
      },
      "outputs": [],
      "source": [
        "# Extract all of the wiki pages\n",
        "texts=[]\n",
        "for page in df['sport_name']:\n",
        "  texts.append(wikipedia_page(page))\n",
        "df[\"original_text\"] = texts"
      ]
    },
    {
      "cell_type": "markdown",
      "metadata": {
        "id": "evL3mnP1v8ZC"
      },
      "source": [
        "#### Dealing With Missing Data"
      ]
    },
    {
      "cell_type": "code",
      "execution_count": null,
      "metadata": {
        "id": "o_J5SV0l6pud"
      },
      "outputs": [],
      "source": [
        "# Delete lines without text\n",
        "df = df.loc[df[\"original_text\"] != \"Page not found\"]"
      ]
    },
    {
      "cell_type": "code",
      "execution_count": null,
      "metadata": {
        "id": "VZsyg7f5cS18"
      },
      "outputs": [],
      "source": [
        "# Delete fictional sports\n",
        "df = df.loc[df[\"sport_type\"] != \"Fictionalsports\"]"
      ]
    },
    {
      "cell_type": "code",
      "execution_count": null,
      "metadata": {
        "id": "aukrcBj-nmaF"
      },
      "outputs": [],
      "source": [
        "# Find sports where the text wasn't found\n",
        "missing_text = df.loc[df[\"original_text\"]==\"\"]"
      ]
    },
    {
      "cell_type": "code",
      "execution_count": null,
      "metadata": {
        "id": "dYvDK_FKr1As"
      },
      "outputs": [],
      "source": [
        "# Find possibles corrections for words\n",
        "def names_corrections(word):\n",
        "    if not word.endswith(\"ing\"):\n",
        "        return [word]\n",
        "    base = word[:-3]\n",
        "    return [base,\n",
        "            base+\"e\",\n",
        "            base[:-1],\n",
        "            base[:-1]+\"ing\"]\n",
        "\n",
        "# Try a number of candidates for page name\n",
        "def names_try_wikipeda(word):\n",
        "  new_names = names_corrections(word)\n",
        "  for name in new_names:\n",
        "    text = wikipedia_page(name)\n",
        "    if text != \"Page not found\":\n",
        "      return text\n",
        "  return \"Page not found\""
      ]
    },
    {
      "cell_type": "code",
      "execution_count": null,
      "metadata": {
        "colab": {
          "base_uri": "https://localhost:8080/"
        },
        "id": "d_NCLWb4tLjJ",
        "outputId": "3cf9f3e2-c59b-4eaa-87b1-d366f2a756d6"
      },
      "outputs": [
        {
          "name": "stderr",
          "output_type": "stream",
          "text": [
            "<ipython-input-67-cffc69afd0af>:9: SettingWithCopyWarning: \n",
            "A value is trying to be set on a copy of a slice from a DataFrame.\n",
            "Try using .loc[row_indexer,col_indexer] = value instead\n",
            "\n",
            "See the caveats in the documentation: https://pandas.pydata.org/pandas-docs/stable/user_guide/indexing.html#returning-a-view-versus-a-copy\n",
            "  missing_text[\"text\"] = try_change\n"
          ]
        }
      ],
      "source": [
        "# Second try to get texts\n",
        "# List of sports with no text\n",
        "missing_text_sports = list(missing_text[\"sport_name\"])\n",
        "\n",
        "try_change = []\n",
        "for sport in missing_text_sports:\n",
        "  try_change.append(names_try_wikipeda(sport))\n",
        "\n",
        "missing_text[\"original_text\"] = try_change"
      ]
    },
    {
      "cell_type": "code",
      "execution_count": null,
      "metadata": {
        "id": "iqzl1-1AKOgv"
      },
      "outputs": [],
      "source": [
        "# Restored texts\n",
        "restored_texts = missing_text.loc[(missing_text[\"original_text\"] != \"\") & (missing_text[\"original_text\"] != \"Page not found\")]"
      ]
    },
    {
      "cell_type": "code",
      "execution_count": null,
      "metadata": {
        "id": "yLxJKM6PJ1X2"
      },
      "outputs": [],
      "source": [
        "# Add restored texts\n",
        "df = pd.concat([df, restored_texts], axis=0)\n",
        "df = df_combined.drop_duplicates()\n",
        "df.reset_index(drop=True, inplace=True)"
      ]
    },
    {
      "cell_type": "markdown",
      "metadata": {
        "id": "Fa6lp5EQrD3B"
      },
      "source": [
        "#### Add More Data"
      ]
    },
    {
      "cell_type": "code",
      "execution_count": null,
      "metadata": {
        "colab": {
          "background_save": true
        },
        "id": "jibTo8V92MJY"
      },
      "outputs": [],
      "source": [
        "# Main Articles in wiki didnt show up, so we add them manually\n",
        "main_articles = [(\"Air sports\",\"Air sports\"),(\"Athletics\",\"Sport of athletics\"),(\"Athletics\",\"Track and field\"),(\"Running\",\"Running\"),(\"Ball games\",\"Volleyball\"),(\"Ball games\",\"Dodgeball\"),(\"Ball games\",\"Golf\"),(\"Ball games\",\"Goal (sports)\"),\n",
        "              (\"Ball games\",\"Football\"),(\"Ball games\",\"Paralympic football\"),(\"Ball games\",\"Beach soccer\"),(\"Ball games\",\"Street football(association football)\"),(\"Ball games\",\"Rugby league nines\"),(\"Ball games\",\"Handball\"),(\"Ball games\",\"Beach handball\"),(\"Ball games\",\"Roll ball\"),(\"Ball games\",\"Water polo\"),(\"Ball games\",\"Hockey\"),\n",
        "              (\"Ball games\",\"Goalball\"),(\"Ball games\",\"Ball hockey\"),(\"Ball games\",\"Field hockey\"),(\"Ball games\",\"Ice hockey\"),(\"Ball games\",\"Lacrosse\"),(\"Ball games\",\"Field lacrosse\"),(\"Ball games\",\"Polo\"),(\"Ball games\",\"Cycle polo\"),(\"Ball games\",\"Badminton\"),(\"Ball games\",\"Football tennis\"),(\"Ball games\",\"American handball\"),(\"Ball games\",\"Table tennis\"),\n",
        "              (\"Ball games\",\"Cue sports\"),(\"Ball games\",\"Ground billiards\"),(\"Board sports\",\"Boardsport\"),(\"Board sports\",\"Skateboarding\"),(\"Boules sports\",\"Boules\"),(\"Bowling\",\"Bowling\"),(\"Climbing\",\"Climbing\"),(\"Climbing\",\"Competition climbing\"),(\"Climbing\",\"Ice climbing\"),(\"Grappling\",\"Grappling\"),(\"Grappling\",\"Wrestling\"),(\"Grappling\",\"Sumo\"),(\"Striking\",\"Strike (attack)\"),\n",
        "              (\"Striking\",\"Boxing\"),(\"Striking\",\"Chess boxing\"),(\"Striking\",\"Karate\"),(\"Striking\",\"Taekwondo\"),(\"Blood sport\",\"Blood sport\"),(\"Flying disc sports\",\"Flying disc sports\"),(\"Flying disc sports\",\"Frisbee\"),(\"Gymnastics\",\"Gymnastics\"),(\"Gymnastics\",\"Calisthenics\"),(\"Gymnastics\",\"Toss juggling\"),(\"Gymnastics\",\"Parkour\"),(\"Motorsports\",\"Motorsport\"),(\"Motorsports\",\"Air racing\"),(\"Motorsports\",\"Auto racing\"),(\"Pedal vehicle\",\"Cycle sport\"),(\"Pedal vehicle\",\"Bicycle\"),\n",
        "              (\"Pedal vehicle\",\"BMX\"),(\"Pedal vehicle\",\"Unicycle\"),(\"Racing\",\"Marathon\"),(\"Racing\",(\"Sprint (running)\")),(\"Snow sports\",\"Skiing\"),(\"Snow sports\",\"Sledding\"),(\"Shooting sports\",\"Shooting sports\"),(\"Shooting sports\",\"Archery\"),(\"Shooting sports\",\"Airsoft\"),(\"Strength sports\",\"Arm wrestling\"),(\"Walking\",\"Hiking\"),(\"Walking\",\"Walking\"),(\"Water sports\",\"Boat racing\"),(\"Water sports\",\"Rafting\"),(\"Water sports\",\"Sailing\"),(\"Water sports\",\"Swimming (sport)\"),(\"Water sports\",\"Underwater sports\"),(\"Water sports\",\"Diving (sport)\"),\n",
        "              (\"Weightlifting\",\"Olympic weightlifting\"),(\"Weightlifting\",\"Powerlifting\"),(\"Sports involving animals\",\"Fishing\"),(\"Sports involving animals\",\"Hunting\"),(\"Sports involving animals\",\"Rodeo\"),(\"Mind sports\",\"Card game\"),(\"Mind sports\",\"Poker\"),(\"Mind sports\",\"Combination puzzle\"),(\"Mind sports\",\"Rubik's Cube\"),(\"Mind sports\",\"Esports\"),(\"Mind sports\",\"Board game\"),(\"Table Sport\",\"Air hockey\"),(\"Team sport\",\"Team sport\"),(\"Paintball\",\"Paintball\"),(\"Wheelchair sports\",\"Wheelchair basketball\")]"
      ]
    },
    {
      "cell_type": "code",
      "source": [
        "# Create new DF with Main Articles\n",
        "sport_names=[]\n",
        "sport_types=[]\n",
        "for i in range(len(main_articls)):\n",
        "  sport_types.append(main_articls[i][0])\n",
        "  sport_names.append(main_articls[i][1])\n",
        "\n",
        "df_main_articls = pd.DataFrame({\n",
        "    'sport_type': sport_types,\n",
        "    'sport_name': sport_names\n",
        "})\n",
        "\n",
        "texts=[]\n",
        "for sport in sport_names:\n",
        "  texts.append(wikipedia_page(i))\n",
        "df_main_articls[\"original_text\"] = texts\n",
        "\n",
        "# Combine original DF and new DF\n",
        "df = pd.concat([df,df_main_articls],axis=0)\n",
        "df = df.drop_duplicates()\n",
        "df.reset_index(drop=True, inplace=True)"
      ],
      "metadata": {
        "id": "yuyGscvsiQ8q"
      },
      "execution_count": null,
      "outputs": []
    },
    {
      "cell_type": "markdown",
      "metadata": {
        "id": "CIa8FqAnkAXH"
      },
      "source": [
        "### Preprocessing"
      ]
    },
    {
      "cell_type": "code",
      "execution_count": null,
      "metadata": {
        "id": "VhjnyI5-PmxJ"
      },
      "outputs": [],
      "source": [
        "# Remove the end of the files that are harmful by the title of the part\n",
        "# The title with 2 words\n",
        "def remove_end_file_two_word(string,titles_to_delete):\n",
        "  words=string.split()\n",
        "  length=len(words)-1\n",
        "  index=0\n",
        "\n",
        "  while length > 1:\n",
        "    # Look for the title\n",
        "    if words[length] == titles_to_delete[-1] and words[length-1] == titles_to_delete[-2]:\n",
        "      index=length-1\n",
        "      break\n",
        "    length -= 1\n",
        "  # If title not found\n",
        "  if index==0:\n",
        "    return \" \".join(words)\n",
        "\n",
        "  # Delete all the words that part of the title\n",
        "  length=len(words)-1\n",
        "  while index < len(words):\n",
        "    words.pop(index)\n",
        "\n",
        "  return \" \".join(words)\n",
        "\n",
        "# The title with 1 word\n",
        "def remove_end_file_one_word(string,titles_to_delete):\n",
        "  words=string.split()\n",
        "  length=len(words)-1\n",
        "  index=0\n",
        "  while length > 0:\n",
        "    if words[length] == titles_to_delete[0]:\n",
        "      index=length-1\n",
        "      break\n",
        "    length -= 1\n",
        "\n",
        "  if index==0:\n",
        "    return \" \".join(words)\n",
        "\n",
        "  length=len(words)-1\n",
        "  while length > index:\n",
        "    words.pop(length)\n",
        "    length -= 1\n",
        "\n",
        "  return \" \".join(words)\n"
      ]
    },
    {
      "cell_type": "code",
      "execution_count": null,
      "metadata": {
        "id": "XUQRH1ywrWMS"
      },
      "outputs": [],
      "source": [
        "# Remove special characters\n",
        "def remove_special_chars(text):\n",
        "  return re.sub(r'[^\\w\\s]', '', text).replace('\\n', '').replace(\"=\",' ')\n",
        "\n",
        "# Remove stopwords\n",
        "def remove_stopwords(tokens):\n",
        "  stop_words = stopwords.words(\"english\")\n",
        "  for word in stop_words:\n",
        "    tokens = [value for value in tokens if value != word]\n",
        "  return tokens\n",
        "\n",
        "# Stemminze tokens and return it as text\n",
        "def stem(tokens):\n",
        "  ps = PorterStemmer()\n",
        "  tokens = [ps.stem(word) for word in tokens]\n",
        "  return \" \".join(tokens)\n",
        "\n",
        "# Lemmatize tokens and return it as text\n",
        "def lemmatize(tokens):\n",
        "  wnl = WordNetLemmatizer()\n",
        "  tokens = [wnl.lemmatize(word) for word in tokens]\n",
        "  return \" \".join(tokens)\n",
        "\n",
        "# Replace diacritics (è, é, ê, ë -> e)\n",
        "def remove_diacritics(text):\n",
        "  return unidecode(text)\n",
        "\n",
        "# Remove the end of file\n",
        "def remove_end_file(string):\n",
        "  # Titles_to_delete=[\"see also\",\"references\",\"external links\",\"sources\"]\n",
        "  string=remove_end_file_two_word(string,[\"See\",\"also\"])\n",
        "  string=remove_end_file_one_word(string,[\"References\"])\n",
        "  string=remove_end_file_two_word(string,[\"External\",\"links\"])\n",
        "  string=remove_end_file_one_word(string,[\"Sources\"])\n",
        "  return string\n",
        "\n",
        "# Remove titles from text\n",
        "def remove_titles(text):\n",
        "    # Use a regex pattern to match anything between === and another === (inclusive)\n",
        "    text=re.sub(r'===.*?===', '', text, flags=re.DOTALL)\n",
        "    text=re.sub(r'==.*?==', '', text, flags=re.DOTALL)\n",
        "    text=text.replace(\"=\", \"\") # Remove after use\n",
        "    return text\n",
        "\n",
        "# Process only delete titles and external sources\n",
        "def initial_process_text(text):\n",
        "  text = remove_end_file(text)\n",
        "  text = remove_titles(text)\n",
        "  return text\n",
        "\n",
        "# Process lower, remove unwanted chars and stopwords\n",
        "def process_text(text):\n",
        "  text = text.lower()\n",
        "  text = remove_titles(text)\n",
        "  text = remove_special_chars(text)\n",
        "  text = remove_end_file(text)\n",
        "  tokens = text.split()\n",
        "  tokens = remove_stopwords(tokens)\n",
        "\n",
        "  return \" \".join(tokens)\n",
        "\n",
        "# Process deals with diacritics\n",
        "def full_process_text(text):\n",
        "  text = text.lower()\n",
        "  text = remove_titles(text)\n",
        "  text = remove_diacritics(text)\n",
        "  text = remove_special_chars(text)\n",
        "  text = remove_end_file(text)\n",
        "  tokens = text.split()\n",
        "  tokens = remove_stopwords(tokens)\n",
        "  return \" \".join(tokens)\n"
      ]
    },
    {
      "cell_type": "code",
      "execution_count": null,
      "metadata": {
        "id": "vfcrbRCtGIuG"
      },
      "outputs": [],
      "source": [
        "df[\"processed_text\"]=df[\"original_text\"].apply(process_text)"
      ]
    },
    {
      "cell_type": "code",
      "execution_count": null,
      "metadata": {
        "id": "dFfTIHdvz65h"
      },
      "outputs": [],
      "source": [
        "df[\"fully_processed_text\"]=df[\"original_text\"].apply(full_process_text)"
      ]
    },
    {
      "cell_type": "code",
      "execution_count": null,
      "metadata": {
        "id": "xDGfkde_F88P"
      },
      "outputs": [],
      "source": [
        "df[\"initial_processed_text\"]=df[\"original_text\"].apply(initial_process_text)"
      ]
    },
    {
      "cell_type": "code",
      "execution_count": null,
      "metadata": {
        "id": "1D2vtnSI7MO_"
      },
      "outputs": [],
      "source": [
        "stem_proc_lst=[]\n",
        "for i in range(len(df)):\n",
        "  tokens = df.iloc[i][\"fully_processed_text\"].split()\n",
        "  stem_proc_lst.append(stem(tokens))\n",
        "df[\"stem_text\"]=stem_proc_lst"
      ]
    },
    {
      "cell_type": "code",
      "execution_count": null,
      "metadata": {
        "id": "c4tNMAwG7_QF"
      },
      "outputs": [],
      "source": [
        "lem_proc_lst=[]\n",
        "for i in range(len(df)):\n",
        "  tokens = df.iloc[i][\"fully_processed_text\"].split()\n",
        "  lem_proc_lst.append(lemmatize(tokens))\n",
        "df[\"lemmatized_text\"]=lem_proc_lst"
      ]
    },
    {
      "cell_type": "markdown",
      "metadata": {
        "id": "J3cWz7id8O9x"
      },
      "source": [
        "### Mini-LM embedding"
      ]
    },
    {
      "cell_type": "code",
      "execution_count": null,
      "metadata": {
        "colab": {
          "base_uri": "https://localhost:8080/",
          "height": 473,
          "referenced_widgets": [
            "29bad44e39fb4155947cf80f73a2c0d2",
            "eb6d3e73c79243b6a3677db92ed90c70",
            "06887846dd384191a36964fc01bf0f2b",
            "0b1f2fa641a642c282312de7634d74c5",
            "a4ff37b593d34e0b830b64b9324432f7",
            "3a39534e8c2246bf84e724a436ff7185",
            "b4494222b4fe47189952d4a36a22d083",
            "00d47a8d2ccb44e8892e5e0bbfbb3140",
            "84f24be266ed4fde949ad70042d27f24",
            "b8466f6ca71d49779b8f14d683bc43b8",
            "f45ffa27845144d2a80d14d2b550ccb6",
            "ed63b8b8853a4aaa80ab3218d6dbf600",
            "b928706b044e49109be8857afe415af7",
            "a8798efcf5a0450399b8b0f82b6de136",
            "c7ee28d947ed4cf0b75a3ed79a7e84ce",
            "1fc5ef5655e248bb940e3a2b34ed4eaa",
            "5326578a619348fbbb93e3272287d889",
            "af5e057ff2ee47c0a2f802ebcd9160f7",
            "30d6110b4a5e4f828a4370942bb89c09",
            "3d6fc2008c9a4cbd95482a4bbc07b499",
            "1c2d03ab4af341d6a80fff727bf4f722",
            "f5f793f82c6040f7a96548a8b1cc20f4",
            "adb097fb63b64ae1839a3e3747818f40",
            "8522a1678bb64093977d1aeb06ddce1a",
            "adbcd89abc36470a9b0a24e52d7c74a2",
            "f0414814143e4f3ba68a9fc7910145f3",
            "f3abff824aae4dab898a81999ad6d66c",
            "9d5528afe5d248ba8c8b0362bbeac589",
            "e6fdf7edc0654a73868083eef53ad685",
            "495dbcf23f0045ca8b99740d71311505",
            "d380248fe9244102817f189ff0172dc1",
            "ea4bf165a310407dad8dadc5126f884d",
            "b7dc26c92531401fafca624a25341d7b",
            "40f8489154fe4cf8a0a20ba3f89f293e",
            "ab1c3b2064464472bed16b00f11b109b",
            "7bcadbcd8a2e4b218abb84149e2f7fd1",
            "ceb82225d03247ccbda0ffdaf03d96f2",
            "1a5b62e58d784d6084bad74093aef48a",
            "9c78a996cfcb4420bd86c33b52e66fb5",
            "e45499a9e9ea4eaa947c9077784c2c7f",
            "9f67eea332e5461daed26b1d43c3370e",
            "50dc0d5861b04648b235532bb5722713",
            "928e82ea21634b4f95b2630969f66543",
            "bb685e24adb14685bdd5714e079bbf53",
            "6301bc08d24546e69d6e134e269a799f",
            "9ead4f4d220e42d9889898b40c291cb4",
            "1253c59969bb4b9e988f76dbdfed6972",
            "1078e5c640cc401e96d36a382fb370f1",
            "ae630b0757234cfbbd81c44c9bf41acd",
            "9b737d309f684ca48c8db8c0151a1b39",
            "879d147fdffa4faf8dc89ddccc0c0508",
            "b84db2c194904044a43052545e48c5ab",
            "59e7225ecf624ee48f6ba24b8204485a",
            "e7833fc4f9eb4360bb9b07c5066fdceb",
            "572e30a8bc5c4b5a945f16879ceb69c7",
            "4412e03921534f8b9093c83055c0e998",
            "55e1bada49bf4cde83a26bac3a474e76",
            "800b2b23472a4e90bb181f5d270704b4",
            "3a94385812d04439b8f311f134f6a658",
            "c2fe8b69bc4a4939a3588aad967c07a2",
            "2c9999bfe8eb4fe7b486ee5fcabace2d",
            "e3a5ad87ad9841afb9425896fe847c40",
            "aec3c87f6b994de78b1fca144058747c",
            "798d47f43fb94b34a42a5f358d910764",
            "4d1eb50498f34c64af77b1d35f2ccbab",
            "81cb9a5d61f34edc8cb37a1e71085abe",
            "444351a186a247758763dcfc87cbe1ac",
            "e401889e25c0493f95388b3e7f41c272",
            "7ca8bd45199b44d1ae90c4daa89ab5de",
            "fb33181087b249b8bd1ebd2cdf7d57f3",
            "e77c91d5dc224c7c8246dd88e2a3fa16",
            "48b04c46e16c421b8742f6d8592637bb",
            "ae72ac03454c4bbebb664d4726c8aac1",
            "566e5314901347eda77555ff38f631b6",
            "fa38d2e1ad164aa7b8d880c56d25723f",
            "067bc0b1dedd473fac7b4efbbf44ed27",
            "2ef3abcd1f944ebc91d3c984bed32ab6",
            "f7eb0a800c1e49348bcad1ef60f1412c",
            "a6b3fba1995442fd951aa1d8c3cf584d",
            "03810bbcbd334a14b6f5a8c2ba1247b5",
            "3ed32ade31504b34a13bf29ff527e57b",
            "73b1013bcaf6438c8f1e76886940d141",
            "f2b2a232d4e04c95993793811ff01c13",
            "addc67298be241f092087de1462e6ddb",
            "b16b1b3fb83249818975294f0674ea8e",
            "788d0fdf0eb14ee59c0af9b075efcd5b",
            "49f47ef72d214ee88232f3a527975d94",
            "0c9392c0a049402883a337a2f99c3f22",
            "70339fd44de34d5bbbe45b90eae668cd",
            "16be04c9ad83498e83d182c4cc13f1bf",
            "83835a07237247c4b602240b2cf5c92e",
            "7efec698974a4249bbe783076d039abc",
            "b5f41bdc8e304f34a284f8eda72e9c2b",
            "9184aeaac98749f0bebdc06f66e5dcd6",
            "a73be9579f5042f5b3efb7cf73270483",
            "6ce015a9ac2d4909a45b122a4019a12a",
            "d0662e8796974f50876284a3555ace61",
            "0f890410db5342aa8df8015835f6c01b",
            "4762e1e160fb4eab8c88cdb6ac5d106e",
            "f1f1e267e32b4bc6bf5412f367179b8c",
            "1f8a7ce2983a4eba83ce18eedbf2a4f4",
            "d9681ad3ae094d44af15d4821ef9bfcb",
            "c4b1f6e70d204716833b2c9ef1d66163",
            "4b66777753fe455cbae9f8815461d2fd",
            "5bd0bbd44da2457788aa23d0edebcd8c",
            "6339a682f547469cb51c215b58858b3d",
            "8a9e08c15feb46ed94e145083a8b51f3",
            "c721e7b2ae764d149a05a707a6252fe5",
            "cae1d566f36f467ba58a5c21ccedcf10",
            "aa82a48cf8ba4e21bf0fbf5913fd295e",
            "86e7cf9bf79644b5b5d8bdee7ab1c06e",
            "77edf2742ae24a4fbac1ede8650e1885",
            "55945f89a5ee428388ca7cbd73ab1a39",
            "1897bf6077cc450ea32b096708376a13",
            "1c65552e63a04320936dab244ca2cfa4",
            "1979e342408a425095748c102683aaf8",
            "fde90b0b4c834e0fbd2c611ea98fe697",
            "aeefebda93a1467298b64940a0ba3f9a",
            "88f32b823d614d839c4261b445700047",
            "3e3f8548e21b48c19a841fe71c5e3970",
            "75cf10d187ca4ccc8cd1c6ffdd5fa5fc"
          ]
        },
        "id": "baGpX0_KzBx5",
        "outputId": "33383f17-f316-402a-f58b-73c04accde48",
        "collapsed": true
      },
      "outputs": [
        {
          "output_type": "stream",
          "name": "stderr",
          "text": [
            "/usr/local/lib/python3.10/dist-packages/huggingface_hub/utils/_auth.py:94: UserWarning: \n",
            "The secret `HF_TOKEN` does not exist in your Colab secrets.\n",
            "To authenticate with the Hugging Face Hub, create a token in your settings tab (https://huggingface.co/settings/tokens), set it as secret in your Google Colab and restart your session.\n",
            "You will be able to reuse this secret in all of your notebooks.\n",
            "Please note that authentication is recommended but still optional to access public models or datasets.\n",
            "  warnings.warn(\n"
          ]
        },
        {
          "output_type": "display_data",
          "data": {
            "text/plain": [
              "modules.json:   0%|          | 0.00/349 [00:00<?, ?B/s]"
            ],
            "application/vnd.jupyter.widget-view+json": {
              "version_major": 2,
              "version_minor": 0,
              "model_id": "29bad44e39fb4155947cf80f73a2c0d2"
            }
          },
          "metadata": {}
        },
        {
          "output_type": "display_data",
          "data": {
            "text/plain": [
              "config_sentence_transformers.json:   0%|          | 0.00/116 [00:00<?, ?B/s]"
            ],
            "application/vnd.jupyter.widget-view+json": {
              "version_major": 2,
              "version_minor": 0,
              "model_id": "ed63b8b8853a4aaa80ab3218d6dbf600"
            }
          },
          "metadata": {}
        },
        {
          "output_type": "display_data",
          "data": {
            "text/plain": [
              "README.md:   0%|          | 0.00/10.7k [00:00<?, ?B/s]"
            ],
            "application/vnd.jupyter.widget-view+json": {
              "version_major": 2,
              "version_minor": 0,
              "model_id": "adb097fb63b64ae1839a3e3747818f40"
            }
          },
          "metadata": {}
        },
        {
          "output_type": "display_data",
          "data": {
            "text/plain": [
              "sentence_bert_config.json:   0%|          | 0.00/53.0 [00:00<?, ?B/s]"
            ],
            "application/vnd.jupyter.widget-view+json": {
              "version_major": 2,
              "version_minor": 0,
              "model_id": "40f8489154fe4cf8a0a20ba3f89f293e"
            }
          },
          "metadata": {}
        },
        {
          "output_type": "display_data",
          "data": {
            "text/plain": [
              "config.json:   0%|          | 0.00/612 [00:00<?, ?B/s]"
            ],
            "application/vnd.jupyter.widget-view+json": {
              "version_major": 2,
              "version_minor": 0,
              "model_id": "6301bc08d24546e69d6e134e269a799f"
            }
          },
          "metadata": {}
        },
        {
          "output_type": "display_data",
          "data": {
            "text/plain": [
              "model.safetensors:   0%|          | 0.00/90.9M [00:00<?, ?B/s]"
            ],
            "application/vnd.jupyter.widget-view+json": {
              "version_major": 2,
              "version_minor": 0,
              "model_id": "4412e03921534f8b9093c83055c0e998"
            }
          },
          "metadata": {}
        },
        {
          "output_type": "display_data",
          "data": {
            "text/plain": [
              "tokenizer_config.json:   0%|          | 0.00/350 [00:00<?, ?B/s]"
            ],
            "application/vnd.jupyter.widget-view+json": {
              "version_major": 2,
              "version_minor": 0,
              "model_id": "444351a186a247758763dcfc87cbe1ac"
            }
          },
          "metadata": {}
        },
        {
          "output_type": "display_data",
          "data": {
            "text/plain": [
              "vocab.txt:   0%|          | 0.00/232k [00:00<?, ?B/s]"
            ],
            "application/vnd.jupyter.widget-view+json": {
              "version_major": 2,
              "version_minor": 0,
              "model_id": "f7eb0a800c1e49348bcad1ef60f1412c"
            }
          },
          "metadata": {}
        },
        {
          "output_type": "display_data",
          "data": {
            "text/plain": [
              "tokenizer.json:   0%|          | 0.00/466k [00:00<?, ?B/s]"
            ],
            "application/vnd.jupyter.widget-view+json": {
              "version_major": 2,
              "version_minor": 0,
              "model_id": "70339fd44de34d5bbbe45b90eae668cd"
            }
          },
          "metadata": {}
        },
        {
          "output_type": "display_data",
          "data": {
            "text/plain": [
              "special_tokens_map.json:   0%|          | 0.00/112 [00:00<?, ?B/s]"
            ],
            "application/vnd.jupyter.widget-view+json": {
              "version_major": 2,
              "version_minor": 0,
              "model_id": "f1f1e267e32b4bc6bf5412f367179b8c"
            }
          },
          "metadata": {}
        },
        {
          "output_type": "display_data",
          "data": {
            "text/plain": [
              "1_Pooling/config.json:   0%|          | 0.00/190 [00:00<?, ?B/s]"
            ],
            "application/vnd.jupyter.widget-view+json": {
              "version_major": 2,
              "version_minor": 0,
              "model_id": "86e7cf9bf79644b5b5d8bdee7ab1c06e"
            }
          },
          "metadata": {}
        }
      ],
      "source": [
        "# Use miniLM for embedding\n",
        "miniLM_model = SentenceTransformer('sentence-transformers/all-MiniLM-L6-v2')"
      ]
    },
    {
      "cell_type": "code",
      "execution_count": null,
      "metadata": {
        "id": "QnvWoGzEyO_H"
      },
      "outputs": [],
      "source": [
        "# Return embedded sentences for a given doc\n",
        "def embedding_doc(doc, model):\n",
        "  sentences = sent_tokenize(doc)\n",
        "  return model.encode(sentences), sentences"
      ]
    },
    {
      "cell_type": "code",
      "source": [
        "# Embedded full texts\n",
        "documents = list(df[\"initial_processed_text\"])\n",
        "docs_embeddings = [miniLM_model.encode(doc) for doc in documents]\n",
        "df[\"embedded_miniLM_text\"] = docs_embeddings"
      ],
      "metadata": {
        "id": "LTpvVmdPn73p"
      },
      "execution_count": null,
      "outputs": []
    },
    {
      "cell_type": "code",
      "source": [
        "# Sliding window over docs for chunks retrievel\n",
        "def sliding_window_context(context, window_size=256, overlap=64):\n",
        "    chunks = []\n",
        "    words = context.split()\n",
        "    i = 0\n",
        "    while i < len(words):\n",
        "        end = i + window_size\n",
        "        if end >= len(words):\n",
        "            chunk = \" \".join(words[i:])\n",
        "        else:\n",
        "            chunk = \" \".join(words[i:end])\n",
        "        chunks.append(chunk)\n",
        "        i = end - overlap  # Move i back by overlap to maintain context overlap\n",
        "    return chunks"
      ],
      "metadata": {
        "id": "hl8ihfO0n3Vc"
      },
      "execution_count": null,
      "outputs": []
    },
    {
      "cell_type": "code",
      "source": [
        "# Get chunks and embedded chunks\n",
        "chunks_list=[]\n",
        "embedded_chunks_list=[]\n",
        "for i in range(len(df)):\n",
        "  chunks = sliding_window_context(df['initial_processed_text'][i])\n",
        "  chunks_list.append(chunks)\n",
        "  embedded_chunks_list.append([miniLM_model.encode(chunk) for chunk in chunks])\n",
        "\n",
        "df[\"embedded_miniLM_chunks\"] = embedded_chunks_list\n",
        "df[\"chunks_list\"] = chunks_list"
      ],
      "metadata": {
        "id": "mL-cjdSrAjJB"
      },
      "execution_count": null,
      "outputs": []
    },
    {
      "cell_type": "code",
      "execution_count": null,
      "metadata": {
        "id": "vVoedBSW4Cn8"
      },
      "outputs": [],
      "source": [
        "# Get sentences and embedded sentences\n",
        "embedding_list=[]\n",
        "sentences_list=[]\n",
        "for i in range(len(df)):\n",
        "  embedding, sentences = embedding_doc(df['initial_processed_text'][i],miniLM_model)\n",
        "  embedding_list.append(embedding)\n",
        "  sentences_list.append(sentences)\n",
        "\n",
        "df[\"embedded_miniLM_sentences\"] = embedding_list\n",
        "df[\"sentences_list\"] = sentences_list"
      ]
    },
    {
      "cell_type": "code",
      "execution_count": null,
      "metadata": {
        "id": "HmoSwj3WIg7B"
      },
      "outputs": [],
      "source": [
        "# Custom JSON Encoder for numpy arrays\n",
        "class NumpyArrayEncoder(JSONEncoder):\n",
        "    def default(self, obj):\n",
        "        if isinstance(obj, np.ndarray):\n",
        "            return obj.tolist()\n",
        "        return JSONEncoder.default(self, obj)\n",
        "\n",
        "# Dictionary to hold the encoded data\n",
        "numpyData = {}\n",
        "\n",
        "# Iterate over the DataFrame rows\n",
        "for i in range(len(df)):\n",
        "    numpyData[i] = {\n",
        "        \"embedded_miniLM_text\": json.dumps(df[\"embedded_miniLM_text\"][i], cls=NumpyArrayEncoder),\n",
        "        \"embedded_miniLM_chunks\": json.dumps(df[\"embedded_miniLM_chunks\"][i], cls=NumpyArrayEncoder),\n",
        "        \"embedded_miniLM_sentences\": json.dumps(df[\"embedded_miniLM_sentences\"][i], cls=NumpyArrayEncoder),\n",
        "    }\n",
        "\n",
        "# Write all data into a single JSON file with gzip compression\n",
        "with gzip.open('/content/drive/My Drive/'+folder1+'/'+folder2+'/'+\"embedded_data.json.gz\", \"wt\") as write_file:\n",
        "    json.dump(numpyData, write_file, cls=NumpyArrayEncoder)"
      ]
    },
    {
      "cell_type": "code",
      "source": [
        "folder1=\"Itamar&Yarden\"\n",
        "folder2=\"קבצי טקסט\"\n",
        "file=\"data_wikipedia.csv\"\n",
        "df.to_csv('/content/drive/My Drive/'+folder1+'/'+folder2+'/'+file, index=False)"
      ],
      "metadata": {
        "id": "kCjjlAGYEmzt"
      },
      "execution_count": null,
      "outputs": []
    },
    {
      "cell_type": "markdown",
      "source": [
        "### EDA"
      ],
      "metadata": {
        "id": "YRM132Tsm2NU"
      }
    },
    {
      "cell_type": "code",
      "source": [
        "df.head()"
      ],
      "metadata": {
        "id": "e05Ov_Bym1WK"
      },
      "execution_count": null,
      "outputs": []
    },
    {
      "cell_type": "code",
      "source": [
        "df.describe()"
      ],
      "metadata": {
        "id": "0f2tSZDam7K3"
      },
      "execution_count": null,
      "outputs": []
    },
    {
      "cell_type": "code",
      "source": [
        "# Count how many words in data\n",
        "sum_words = 0\n",
        "for i in range(len(df)):\n",
        "  sum_words += len(df.iloc[i][\"original_text\"].split())\n",
        "sum_words"
      ],
      "metadata": {
        "id": "p1XXQiL1nBmt"
      },
      "execution_count": null,
      "outputs": []
    },
    {
      "cell_type": "code",
      "execution_count": null,
      "metadata": {
        "id": "2CNNLWsujBhi",
        "colab": {
          "base_uri": "https://localhost:8080/"
        },
        "outputId": "fd3c7974-c353-42a8-ca89-c8ef15e76bb9"
      },
      "outputs": [
        {
          "output_type": "display_data",
          "data": {
            "text/plain": [
              "<Figure size 1000x500 with 1 Axes>"
            ],
            "image/png": "[encoded data removed]"
          },
          "metadata": {}
        }
      ],
      "source": [
        "# Create word-cloud on original text\n",
        "wordcloud = WordCloud(width=800, height=400, background_color='white',stopwords=[]).generate(\" \".join(df[\"original_text\"]))\n",
        "\n",
        "plt.figure(figsize=(10, 5))\n",
        "plt.imshow(wordcloud, interpolation='bilinear')\n",
        "plt.axis('off')\n",
        "plt.show()"
      ]
    },
    {
      "cell_type": "code",
      "source": [
        "# Create word-cloud on original text\n",
        "wordcloud = WordCloud(width=800, height=400, background_color='white',stopwords=[]).generate(\" \".join(df[\"fully_processed_text\"]))\n",
        "\n",
        "plt.figure(figsize=(10, 5))\n",
        "plt.imshow(wordcloud, interpolation='bilinear')\n",
        "plt.axis('off')\n",
        "plt.show()"
      ],
      "metadata": {
        "id": "a53nxwxBnlh2"
      },
      "execution_count": null,
      "outputs": []
    },
    {
      "cell_type": "markdown",
      "source": [
        "## Questions Data"
      ],
      "metadata": {
        "id": "O4hca_t0pOZZ"
      }
    },
    {
      "cell_type": "code",
      "source": [
        "qdf = pd.read_csv('/content/drive/My Drive/Itamar&Yarden/קבצי טקסט/questions.csv')"
      ],
      "metadata": {
        "id": "Y3QjdBG4pNMu"
      },
      "execution_count": null,
      "outputs": []
    },
    {
      "cell_type": "code",
      "source": [
        "# Clean DF\n",
        "qdf = qdf.drop_duplicates()\n",
        "qdf = qdf.dropna()\n",
        "\n",
        "# Only relevent columns\n",
        "qdf=qdf[['question1', 'question2']]"
      ],
      "metadata": {
        "id": "WRPCgc9mpx2k"
      },
      "execution_count": null,
      "outputs": []
    },
    {
      "cell_type": "code",
      "source": [
        "# Process questions\n",
        "def process_questions_text(text):\n",
        "  text = text.lower()\n",
        "  text = remove_diacritics(text)\n",
        "  text = remove_special_chars(text)\n",
        "  return text + \".\" # Add dot for separation"
      ],
      "metadata": {
        "id": "8kFtjswBq2Sr"
      },
      "execution_count": null,
      "outputs": []
    },
    {
      "cell_type": "code",
      "source": [
        "qdf[\"question1\"] = qdf[\"question1\"].apply(process_questions_text)\n",
        "qdf[\"question2\"] = qdf[\"question2\"].apply(process_questions_text)"
      ],
      "metadata": {
        "id": "9VeTt_PGr9UR"
      },
      "execution_count": null,
      "outputs": []
    },
    {
      "cell_type": "code",
      "source": [
        "# Combine DF into one large text string\n",
        "questions_text = ' '.join(qdf['question1'].astype(str)) + ' ' + ' '.join(qdf['question2'].astype(str))"
      ],
      "metadata": {
        "id": "CqDcB97HulQb"
      },
      "execution_count": null,
      "outputs": []
    },
    {
      "cell_type": "code",
      "source": [
        "# Save into txt file\n",
        "drive.mount('/content/drive')\n",
        "with open('/content/drive/My Drive/Itamar&Yarden/קבצי טקסט/questions.txt', 'w') as f:\n",
        "    f.write(questions_text)"
      ],
      "metadata": {
        "id": "-gOGBNgsvLwP"
      },
      "execution_count": null,
      "outputs": []
    },
    {
      "cell_type": "markdown",
      "source": [
        "## Open Web Text"
      ],
      "metadata": {
        "id": "8ERLKbIfsnSl"
      }
    },
    {
      "cell_type": "code",
      "source": [
        "# Load the dataset in streaming mode\n",
        "dataset = load_dataset(\"openwebtext\", split=\"train\", streaming=True)\n",
        "\n",
        "# Create a subset by taking the first 10000 samples\n",
        "subset = dataset.take(10000)"
      ],
      "metadata": {
        "id": "wSyuZ2vgn2mp"
      },
      "execution_count": null,
      "outputs": []
    },
    {
      "cell_type": "code",
      "source": [
        "samples_text = \"\"\n",
        "# Iterate over the subset and process it\n",
        "for sample in subset:\n",
        "    samples_text = samples_text + \" \" + sample[\"text\"]"
      ],
      "metadata": {
        "id": "BiW1RKf0oVGI"
      },
      "execution_count": null,
      "outputs": []
    },
    {
      "cell_type": "code",
      "source": [
        "# Define the path in your Google Drive\n",
        "file_path = '/content/drive/My Drive/Itamar&Yarden/קבצי טקסט/samples_text.txt'\n",
        "\n",
        "# Write the text to the file\n",
        "with open(file_path, 'w') as file:\n",
        "    file.write(samples_text)"
      ],
      "metadata": {
        "id": "PVoUa_81od3w"
      },
      "execution_count": null,
      "outputs": []
    },
    {
      "cell_type": "markdown",
      "source": [
        "## SQuAD"
      ],
      "metadata": {
        "id": "GmJv78sn0MIt"
      }
    },
    {
      "cell_type": "code",
      "source": [
        "# Load the dataset (e.g., SQuAD for QA task)\n",
        "dataset = load_dataset(\"squad\")\n",
        "\n",
        "# Shuffle the dataset to ensure a random distribution\n",
        "dataset = dataset.shuffle(seed=42)\n",
        "\n",
        "# Define split percentages\n",
        "train_pct = 0.9\n",
        "comparison_pct = 0.1\n",
        "\n",
        "# Calculate split sizes\n",
        "train_size = int(len(dataset['train']) * train_pct)\n",
        "comparison_size = int(len(dataset['train']) * comparison_pct)\n",
        "\n",
        "# Split the dataset\n",
        "train_dataset = dataset['train'].select(range(train_size))\n",
        "comparison_dataset = dataset['train'].select(range(train_size, train_size + comparison_size))\n",
        "validation_dataset = dataset['validation']"
      ],
      "metadata": {
        "id": "CsTxLda80QeY"
      },
      "execution_count": null,
      "outputs": []
    },
    {
      "cell_type": "code",
      "source": [
        "# Duplicate the data and change the questions and the answers (no answers)\n",
        "def add_answerless_rows(df):\n",
        "\n",
        "  df_no_answer = df.copy()\n",
        "  df_no_answer[\"question\"] = df_no_answer[\"question\"].sample(frac=1).values\n",
        "  df_no_answer[\"answers\"] = df_no_answer[\"answers\"].apply(lambda x: {'text': [''], 'answer_start': [-1]})\n",
        "\n",
        "  # Combine DFs\n",
        "  df = pd.concat([df,df_no_answer],ignore_index=True).sample(frac=1).reset_index(drop=True)\n",
        "  return df"
      ],
      "metadata": {
        "id": "9RgmIPXs-RG1"
      },
      "execution_count": null,
      "outputs": []
    },
    {
      "cell_type": "code",
      "source": [
        "comparison_dataset = add_answerless_rows(comparison_dataset)"
      ],
      "metadata": {
        "id": "KKX6FoWQ-AEl"
      },
      "execution_count": null,
      "outputs": []
    },
    {
      "cell_type": "markdown",
      "source": [
        "# Spelling Error Correction"
      ],
      "metadata": {
        "id": "pbtEDz36yYz_"
      }
    },
    {
      "cell_type": "markdown",
      "source": [
        "## Data Preprocessing"
      ],
      "metadata": {
        "id": "jul36qCOKMpW"
      }
    },
    {
      "cell_type": "code",
      "source": [
        "# Turn series into text\n",
        "textSport = ' '.join(df['initial_processed_text'].tolist())"
      ],
      "metadata": {
        "id": "QC9HAz9rWFFg"
      },
      "execution_count": null,
      "outputs": []
    },
    {
      "cell_type": "code",
      "source": [
        "# Combine to one text\n",
        "textSport = textSport + \" \" + samples_text + \" \" + questions_text"
      ],
      "metadata": {
        "id": "0-SwEgPFZFYZ"
      },
      "execution_count": null,
      "outputs": []
    },
    {
      "cell_type": "code",
      "source": [
        "# Data preprocess\n",
        "def preprocess_text(text):\n",
        "    # Remove 's from text\n",
        "    text = re.sub(r'\\'s', '', text)\n",
        "    # Remove special characters\n",
        "    text = re.sub(r'[^\\w\\s]', '', text)\n",
        "    # Lower text\n",
        "    text = text.lower()\n",
        "    # Remove repeating letters\n",
        "    text = re.sub(r'(.)\\1{2,}', r'\\1\\1', text)\n",
        "    # Remove excess whitespace\n",
        "    text = ' '.join(text.split())\n",
        "\n",
        "    return text\n",
        "\n",
        "# Build vocabulary from text\n",
        "def build_vocab(text):\n",
        "    words = word_tokenize(text)\n",
        "    vocab = set(words)\n",
        "    return vocab\n",
        "\n",
        "# Count every words frequency\n",
        "def build_unigram_counts(text):\n",
        "    words = word_tokenize(text)\n",
        "    unigram_counts = defaultdict(int)\n",
        "    for word in words:\n",
        "        unigram_counts[word] += 1\n",
        "    return unigram_counts\n",
        "\n",
        "# Count every 2 pair of words frequency\n",
        "def build_bigram_counts(text):\n",
        "    words = word_tokenize(text)\n",
        "    bigram_counts = defaultdict(int)\n",
        "    # Create bigram list\n",
        "    bigrams = list(ngrams(words, 2))\n",
        "    for bigram in bigrams:\n",
        "        bigram_counts[bigram] += 1\n",
        "    return bigram_counts\n",
        "\n",
        "# Count every 3 pair of words frequency\n",
        "def build_trigram_counts(text):\n",
        "    words = word_tokenize(text)\n",
        "    trigram_counts = defaultdict(int)\n",
        "    # Create trigram list\n",
        "    trigrams = list(ngrams(words, 3))\n",
        "    for trigram in trigrams:\n",
        "        trigram_counts[trigram] += 1\n",
        "    return trigram_counts"
      ],
      "metadata": {
        "id": "cyIfbxHC-pjB"
      },
      "execution_count": null,
      "outputs": []
    },
    {
      "cell_type": "code",
      "source": [
        "# Preprocess\n",
        "processed_text = preprocess_text(textSport)\n",
        "\n",
        "# Create vocabulary\n",
        "vocab_sport = build_vocab(processed_text)\n",
        "print(\"Vocabulary size:\", len(vocab_sport))\n",
        "\n",
        "# Culculates unigram and bigram frequencies\n",
        "unigram_counts = build_unigram_counts(processed_text)\n",
        "bigram_counts = build_bigram_counts(processed_text)\n",
        "trigram_counts = build_trigram_counts(processed_text)"
      ],
      "metadata": {
        "colab": {
          "base_uri": "https://localhost:8080/"
        },
        "id": "lltO1zZXr7em",
        "outputId": "c1d0b816-bd53-4dbb-85d6-1ca50d919cff"
      },
      "execution_count": null,
      "outputs": [
        {
          "output_type": "stream",
          "name": "stdout",
          "text": [
            "Vocabulary size: 289558\n"
          ]
        }
      ]
    },
    {
      "cell_type": "code",
      "source": [
        "# Combine them into one dictionary\n",
        "ngram_counts = {\n",
        "    \"unigram\": unigram_counts,\n",
        "    \"bigram\": bigram_counts,\n",
        "    \"trigram\": trigram_counts,\n",
        "    \"vocab\": vocab_sport\n",
        "}\n",
        "\n",
        "# Save the combined object to a file\n",
        "file_name = \"ngram_counts.pkl\"\n",
        "with open('/content/drive/My Drive/'+folder1+'/'+folder2+'/'+file_name, 'wb') as file:\n",
        "    pickle.dump(ngram_counts, file)"
      ],
      "metadata": {
        "id": "gTIzyED-yheJ"
      },
      "execution_count": null,
      "outputs": []
    },
    {
      "cell_type": "markdown",
      "source": [
        "## Finding and correcting misspelled words"
      ],
      "metadata": {
        "id": "hxGJXSYoqxyD"
      }
    },
    {
      "cell_type": "code",
      "source": [
        "# Alaph bet for candidates finding\n",
        "abc = \"abcdefghijklmnopqrstuvwxyz\"\n",
        "\n",
        "# Replace each letter with each letter in the ABC\n",
        "def replaceLetters(word):\n",
        "  candidates = []\n",
        "  for i in range(len(word)):\n",
        "    for letter in abc:\n",
        "      alt = word[:i] + letter + word[i+1:]\n",
        "      candidates.append(alt)\n",
        "  return candidates\n",
        "\n",
        "# Incert each letter in the ABC\n",
        "def incertLetters(word):\n",
        "  candidates = []\n",
        "  for i in range(len(word)+1):\n",
        "    for letter in abc:\n",
        "      alt = word[:i] + letter + word[i:]\n",
        "      candidates.append(alt)\n",
        "  return candidates\n",
        "\n",
        "# Delete each letter one at a time\n",
        "def deleteLetters(word):\n",
        "  candidates = []\n",
        "  for i in range(len(word)):\n",
        "    alt = word[:i] + word[i+1:]\n",
        "    candidates.append(alt)\n",
        "  return candidates\n",
        "\n",
        "# Replace all letters with each others\n",
        "def shuffleLetters(word):\n",
        "  candidates = []\n",
        "  for i in range(len(word)):\n",
        "    for j in range(len(word)):\n",
        "      # Convert the word to a list of characters\n",
        "      alt = list(word)\n",
        "      # Swap the letters at the specified indices\n",
        "      alt[i], alt[j] = alt[j], alt[i]\n",
        "      # Join the list back into a string\n",
        "      alt = ''.join(alt)\n",
        "      candidates.append(alt)\n",
        "  return candidates"
      ],
      "metadata": {
        "id": "pVxlJFroBRvg"
      },
      "execution_count": null,
      "outputs": []
    },
    {
      "cell_type": "code",
      "source": [
        "# Generate possibles corrections for wrong spelled word\n",
        "def generate_candidates(word, vocab, distance):\n",
        "    if word in vocab:\n",
        "        return {word}\n",
        "\n",
        "    candidates = set(replaceLetters(word) + incertLetters(word) + deleteLetters(word) + shuffleLetters(word))\n",
        "    if distance == 1:\n",
        "        return candidates & vocab  # Return only known words\n",
        "\n",
        "    # For distance=2, limit the generation\n",
        "    second_round = set()\n",
        "    for candidate in candidates:\n",
        "        second_round.update(replaceLetters(candidate) + incertLetters(candidate) + deleteLetters(candidate) + shuffleLetters(candidate))\n",
        "    return second_round & vocab\n"
      ],
      "metadata": {
        "id": "IF1jTbE-Ji1O"
      },
      "execution_count": null,
      "outputs": []
    },
    {
      "cell_type": "code",
      "source": [
        "def evaluate_sentence(sentence, trigram_counts, bigram_counts, unigram_counts, trigram_weight=0.7, bigram_weight=0.4, unigram_weight=0.3):\n",
        "    score = 0\n",
        "    total_unigram_count = sum(unigram_counts.values())\n",
        "\n",
        "    # Calculate scores for trigrams, bigrams, and unigrams\n",
        "    for i in range(len(sentence) - 2):  # Loop over the sentence, stopping 2 words before the end\n",
        "        trigram = (sentence[i], sentence[i+1], sentence[i+2])\n",
        "        bigram = (sentence[i], sentence[i+1])\n",
        "        unigram = sentence[i]\n",
        "\n",
        "        # Get the trigram, bigram, and unigram counts\n",
        "        trigram_score = trigram_counts.get(trigram, 0)\n",
        "        bigram_score = bigram_counts.get(bigram, 0)\n",
        "        unigram_score = unigram_counts.get(unigram, 0)\n",
        "\n",
        "        # Normalize the unigram score\n",
        "        normalized_unigram_score = unigram_score / total_unigram_count if total_unigram_count > 0 else 0\n",
        "\n",
        "        # Calculate the weighted score\n",
        "        score += (trigram_weight * trigram_score) + (bigram_weight * bigram_score) + (unigram_weight * normalized_unigram_score)\n",
        "\n",
        "    # Handle the last bigram and unigram for the final two words\n",
        "    if len(sentence) >= 2:\n",
        "        bigram = (sentence[-2], sentence[-1])\n",
        "        bigram_score = bigram_counts.get(bigram, 0)\n",
        "        unigram_score = unigram_counts.get(sentence[-2], 0)\n",
        "\n",
        "        normalized_unigram_score = unigram_score / total_unigram_count if total_unigram_count > 0 else 0\n",
        "        score += (bigram_weight * bigram_score) + (unigram_weight * normalized_unigram_score)\n",
        "\n",
        "    # Add the last word's unigram score\n",
        "    last_unigram_score = unigram_counts.get(sentence[-1], 0)\n",
        "    normalized_last_unigram_score = last_unigram_score / total_unigram_count if total_unigram_count > 0 else 0\n",
        "    score += (unigram_weight * normalized_last_unigram_score)\n",
        "\n",
        "    return score\n"
      ],
      "metadata": {
        "id": "Cn0YvDuYncB3"
      },
      "execution_count": null,
      "outputs": []
    },
    {
      "cell_type": "code",
      "source": [
        "# Find best sequence using beam search\n",
        "def correct_spelling_error(words, vocab, beam_width, trigram_counts, bigram_counts, unigram_counts):\n",
        "    # Detect named entities using spaCy on the original text (before preprocessing)\n",
        "    doc = spacy_model(words)\n",
        "    named_entities = [ent.text.lower() for ent in doc.ents]\n",
        "\n",
        "    # Preproces the sentence\n",
        "    words = preprocess_text(words).split(\" \")\n",
        "    # Start with correct words\n",
        "    current_sequences = [(0, [])]  # sequence list, (score, sentence)\n",
        "\n",
        "    for word in words:\n",
        "        new_candidates = []\n",
        "\n",
        "        # If the word was a named entity in the original text, skip correction\n",
        "        if word in named_entities:\n",
        "            candidates = [word]  # Keep the named entity unchanged\n",
        "        else:\n",
        "            # Generate candidates for the current word\n",
        "            candidates = generate_candidates(word, vocab, 1)\n",
        "            if not candidates:\n",
        "                candidates = generate_candidates(word, vocab, 2)\n",
        "                if not candidates:\n",
        "                    candidates = [word]\n",
        "\n",
        "        # Expand every possible sequence\n",
        "        for score, seq in current_sequences:\n",
        "            for candidate in candidates:\n",
        "                new_seq = seq + [candidate]\n",
        "                new_score = evaluate_sentence(new_seq, trigram_counts, bigram_counts, unigram_counts)\n",
        "                new_candidates.append((new_score, new_seq))\n",
        "\n",
        "        # Save only the sequences with the highest scores\n",
        "        # beam_width - number of sequences that gets saved every time\n",
        "        current_sequences = heapq.nlargest(beam_width, new_candidates, key=lambda x: x[0])\n",
        "        print(current_sequences)\n",
        "    # Return the best sequence\n",
        "    best_sequence = max(current_sequences, key=lambda x: x[0])\n",
        "    return best_sequence\n"
      ],
      "metadata": {
        "id": "iv9cuktgarVc",
        "collapsed": true
      },
      "execution_count": null,
      "outputs": []
    },
    {
      "cell_type": "markdown",
      "source": [
        "# Answer Retrievel"
      ],
      "metadata": {
        "id": "1hha2pynzG8P"
      }
    },
    {
      "cell_type": "markdown",
      "source": [
        "## TF-IDF"
      ],
      "metadata": {
        "id": "CPPcameJzWmi"
      }
    },
    {
      "cell_type": "code",
      "source": [
        "# Remove special characters\n",
        "def remove_special_chars(text):\n",
        "  return re.sub(r'[^\\w\\s]', '', text).replace('\\n', '').replace(\"=\",' ')\n",
        "\n",
        "# Remove stopwords\n",
        "def remove_stopwords(tokens):\n",
        "  stop_words = stopwords.words(\"english\")\n",
        "  for word in stop_words:\n",
        "    tokens = [value for value in tokens if value != word]\n",
        "  return tokens\n",
        "\n",
        "# Lemmatize tokens and return it as text\n",
        "def lemmatize(tokens):\n",
        "  wnl = WordNetLemmatizer()\n",
        "  tokens = [wnl.lemmatize(word) for word in tokens]\n",
        "  return \"\".join(tokens)\n",
        "\n",
        "# Replace diacritics (è, é, ê, ë -> e)\n",
        "def remove_diacritics(text):\n",
        "  return unidecode(text)\n",
        "\n",
        "def tf_idf_process_query(query):\n",
        "  query = query.lower()\n",
        "  query = remove_diacritics(query)\n",
        "  query = remove_special_chars(query)\n",
        "  tokens = query.split()\n",
        "  tokens = remove_stopwords(tokens)\n",
        "  processed_query = lemmatize(tokens)\n",
        "  return processed_query"
      ],
      "metadata": {
        "id": "4RNx5d8OzfVL"
      },
      "execution_count": null,
      "outputs": []
    },
    {
      "cell_type": "code",
      "source": [
        "# Create vocabelry and TF-IDF matrix from the docs\n",
        "def create_tf_idf_array(docs):\n",
        "  vectorizer = TfidfVectorizer(min_df=3)\n",
        "  tfidf_matrix = vectorizer.fit_transform(docs)\n",
        "  tfidf_array = tfidf_matrix.toarray()\n",
        "  voc = vectorizer.get_feature_names_out()\n",
        "  return tfidf_array, voc\n"
      ],
      "metadata": {
        "id": "rJontHCWeD22"
      },
      "execution_count": null,
      "outputs": []
    },
    {
      "cell_type": "code",
      "source": [
        "# Calculate the score of doc\n",
        "def tf_idf_calc_score(doc, tokens, tf_idf_array, i, voc):\n",
        "  score = 0\n",
        "  for word in tokens:\n",
        "    if word not in voc:\n",
        "      continue\n",
        "    if word in doc:\n",
        "      score += tf_idf_array[i][voc.index(word)]\n",
        "\n",
        "  return score"
      ],
      "metadata": {
        "id": "9Tbzbi_5fcjj"
      },
      "execution_count": null,
      "outputs": []
    },
    {
      "cell_type": "code",
      "source": [
        "# Find best doc from TF-IDF matrix\n",
        "def tf_idf_find_docs(docs, query, tf_idf_array, voc, k=1):\n",
        "  scores = []\n",
        "  query_tokens=query.split()\n",
        "\n",
        "  for i, doc in enumerate(docs):\n",
        "    score = tf_idf_calc_score(doc, query_tokens, tf_idf_array, i, voc)\n",
        "    score_doc = (score, doc)\n",
        "    scores.append(score_doc)\n",
        "\n",
        "  best_scores = sorted(scores,key=lambda x:x[0],reverse=True)\n",
        "  k_best_score = best_scores[:k]\n",
        "\n",
        "  return k_best_score"
      ],
      "metadata": {
        "id": "B3aQ8u8AgKp_"
      },
      "execution_count": null,
      "outputs": []
    },
    {
      "cell_type": "code",
      "source": [
        "# Get the 3 best docs for the query\n",
        "def tf_idf_best_doc(query):\n",
        "  processed_query = tf_idf_process_query(query)\n",
        "  docs = list(df[\"lemmatized_text\"])\n",
        "  tf_idf_array, voc = create_tf_idf_array(docs)\n",
        "  return tf_idf_find_docs(docs, processed_query, tf_idf_array, list(voc), 3)"
      ],
      "metadata": {
        "id": "ETnWYQrIueIU"
      },
      "execution_count": null,
      "outputs": []
    },
    {
      "cell_type": "markdown",
      "source": [
        "## RoBERTa"
      ],
      "metadata": {
        "id": "eVurtG4ozsG4"
      }
    },
    {
      "cell_type": "markdown",
      "source": [
        "### Model Building"
      ],
      "metadata": {
        "id": "WfvsVz1ipADo"
      }
    },
    {
      "cell_type": "code",
      "source": [
        "# Check if CUDA is available\n",
        "device = torch.device(\"cuda\" if torch.cuda.is_available() else \"cpu\")\n",
        "\n",
        "# Load the pre-trained RoBERTa model and tokenizer\n",
        "model_name = \"roberta-base\"  # You can also use \"roberta-large\"\n",
        "tokenizer = RobertaTokenizerFast.from_pretrained(model_name)\n",
        "model = RobertaForQuestionAnswering.from_pretrained(model_name).to(device)  # Move model to GPU"
      ],
      "metadata": {
        "colab": {
          "base_uri": "https://localhost:8080/"
        },
        "id": "QA3ZVe8eVMgU",
        "outputId": "471efe80-9176-4221-b0de-cb8a77d2ce8b"
      },
      "execution_count": null,
      "outputs": [
        {
          "output_type": "stream",
          "name": "stderr",
          "text": [
            "Some weights of RobertaForQuestionAnswering were not initialized from the model checkpoint at roberta-base and are newly initialized: ['qa_outputs.bias', 'qa_outputs.weight']\n",
            "You should probably TRAIN this model on a down-stream task to be able to use it for predictions and inference.\n"
          ]
        }
      ]
    },
    {
      "cell_type": "code",
      "source": [
        "# Tokenize the inputs\n",
        "def preprocess_function(examples):\n",
        "    questions = [q.strip() for q in examples[\"question\"]]\n",
        "    contexts = [c.strip() for c in examples[\"context\"]]\n",
        "\n",
        "    # Include return_offsets_mapping=True to get the offset_mapping\n",
        "    inputs = tokenizer(questions, contexts, max_length=128, truncation=\"only_second\", padding=\"max_length\", return_offsets_mapping=True)\n",
        "\n",
        "    start_positions = []\n",
        "    end_positions = []\n",
        "\n",
        "    # Loop through tokenized inputs to compute start and end positions\n",
        "    for i, offset in enumerate(inputs[\"offset_mapping\"]):\n",
        "        answer = examples[\"answers\"][i][\"text\"][0]\n",
        "        start_char = examples[\"answers\"][i][\"answer_start\"][0]\n",
        "        end_char = start_char + len(answer)\n",
        "\n",
        "        # Find the start and end positions within the tokenized input\n",
        "        sequence_ids = inputs.sequence_ids(i)\n",
        "        context_start = sequence_ids.index(1)\n",
        "        context_end = len(sequence_ids) - 1 - sequence_ids[::-1].index(1)\n",
        "\n",
        "        start_position = end_position = 0\n",
        "        for idx, (start, end) in enumerate(offset):\n",
        "            if start <= start_char < end:\n",
        "                start_position = idx\n",
        "            if start < end_char <= end:\n",
        "                end_position = idx\n",
        "                break\n",
        "\n",
        "        start_positions.append(start_position)\n",
        "        end_positions.append(end_position)\n",
        "\n",
        "    inputs[\"start_positions\"] = start_positions\n",
        "    inputs[\"end_positions\"] = end_positions\n",
        "    return inputs\n"
      ],
      "metadata": {
        "colab": {
          "base_uri": "https://localhost:8080/",
          "height": 17,
          "referenced_widgets": [
            "e5564a01e1b747a8810c5c186a1bea4d",
            "b418520fd868452fbd5b695f093fd9ce",
            "c83d9b9161e54f85825e3ad7d3ff2b66",
            "47d16d655ba647558001889170eccef3",
            "d00829bc0e384f9e90693c8738fbce62",
            "cf6bb408f35e4b08842e6da0237cd3ca",
            "561a47df2e0848fb88aad1ef4cf904a2",
            "dc88eb413f0e4fd780cda0896b4d1ebd",
            "2fb7d65bd3a24c7da9cb15ebc8cffafa",
            "98a1c39d91a948be99595713c56f97db",
            "5bfa4eeee01c49f794d20d9ca9ecc0ff"
          ]
        },
        "id": "SpRe26TEzUAY",
        "outputId": "2ec5225e-ac62-40d2-8d03-ecfebe65f522"
      },
      "execution_count": null,
      "outputs": [
        {
          "output_type": "display_data",
          "data": {
            "text/plain": [
              "Map:   0%|          | 0/10570 [00:00<?, ? examples/s]"
            ],
            "application/vnd.jupyter.widget-view+json": {
              "version_major": 2,
              "version_minor": 0,
              "model_id": "e5564a01e1b747a8810c5c186a1bea4d"
            }
          },
          "metadata": {}
        }
      ]
    },
    {
      "cell_type": "markdown",
      "source": [
        "### Finding Best Hyperparameters"
      ],
      "metadata": {
        "id": "RTatCGaszyaf"
      }
    },
    {
      "cell_type": "code",
      "source": [
        "# Reduce the training dataset to 10% of the original size\n",
        "train_dataset = train_dataset.shuffle(seed=42).select(range(int(len(train_dataset) * 0.05)))\n",
        "validation_dataset = validation_dataset.shuffle(seed=42).select(range(int(len(validation_dataset) * 0.05)))"
      ],
      "metadata": {
        "id": "4nXRtYvI3B4r"
      },
      "execution_count": null,
      "outputs": []
    },
    {
      "cell_type": "code",
      "source": [
        "# Apply the preprocess_function to the dataset\n",
        "tokenized_train_data = train_dataset.map(preprocess_function, batched=True, remove_columns=train_dataset.column_names)\n",
        "tokenized_validation_data = validation_dataset.map(preprocess_function, batched=True, remove_columns=validation_dataset.column_names)"
      ],
      "metadata": {
        "colab": {
          "base_uri": "https://localhost:8080/",
          "height": 17,
          "referenced_widgets": [
            "90405e0df3c941d88627148b81345a07",
            "9e3ba40360014f31be3fbb3f068cc6d6",
            "878d52ffe5654061b515382bf8ee454f",
            "4d1be07574d6491f86790bdd791ad2bd",
            "5923831051a840df8e32f46feb321ef0",
            "842c0a060f8249558f8a88e8b8297aff",
            "613b269214104db4ae22347df9b89348",
            "5e76fd834d9d45bab1f657e1b355ac5d",
            "2f8351fb9f8543d78fd9b45476ad2ffe",
            "e03f8bb1144f4ad883975f369db24dbe",
            "436ceadb257b4c7ca226d94752b3609c"
          ]
        },
        "id": "BfZvg4Il3RyZ",
        "outputId": "accd8bc9-e1ec-401a-96be-075a54a40681"
      },
      "execution_count": null,
      "outputs": [
        {
          "output_type": "display_data",
          "data": {
            "text/plain": [
              "Map:   0%|          | 0/3941 [00:00<?, ? examples/s]"
            ],
            "application/vnd.jupyter.widget-view+json": {
              "version_major": 2,
              "version_minor": 0,
              "model_id": "90405e0df3c941d88627148b81345a07"
            }
          },
          "metadata": {}
        }
      ]
    },
    {
      "cell_type": "markdown",
      "source": [
        "#### Testing Batch Sizes"
      ],
      "metadata": {
        "id": "-JCfc9Sq0W0F"
      }
    },
    {
      "cell_type": "code",
      "source": [
        "results = []\n",
        "batches = [8,16,32,64]\n",
        "\n",
        "for batch_size in batches:\n",
        "  # Set training arguments\n",
        "  training_args = TrainingArguments(\n",
        "      output_dir=\"./results\",\n",
        "      eval_strategy=\"epoch\",\n",
        "      logging_strategy=\"epoch\",  # Logs at the end of each epoch\n",
        "      learning_rate=2e-5,\n",
        "      per_device_train_batch_size=batch_size,\n",
        "      per_device_eval_batch_size=batch_size,\n",
        "      num_train_epochs=4,\n",
        "      weight_decay=0.01,\n",
        "      report_to=\"none\",\n",
        "  )\n",
        "\n",
        "  # Load the pre-trained RoBERTa model and tokenizer\n",
        "  model_name = \"roberta-base\"  # You can also use \"roberta-large\"\n",
        "  tokenizer = RobertaTokenizerFast.from_pretrained(model_name)\n",
        "  model = RobertaForQuestionAnswering.from_pretrained(model_name).to(device)  # Move model to GPU\n",
        "\n",
        "  # Initialize Trainer\n",
        "  trainer = Trainer(\n",
        "      model=model,\n",
        "      args=training_args,\n",
        "      train_dataset=tokenized_train_data,\n",
        "      eval_dataset=tokenized_validation_data,\n",
        "      tokenizer=tokenizer,\n",
        "      data_collator=default_data_collator\n",
        "  )\n",
        "\n",
        "  # Train the model\n",
        "  trainer.train()\n",
        "\n",
        "  # Evaluate the model\n",
        "  eval_results = trainer.evaluate()\n",
        "\n",
        "  # Add evaluation results with batch size to results list\n",
        "  eval_results[\"batch_size\"] = batch_size\n",
        "  results.append(eval_results)\n",
        "\n",
        "# Save all results to CSV\n",
        "df = pd.DataFrame(results)"
      ],
      "metadata": {
        "colab": {
          "base_uri": "https://localhost:8080/",
          "height": 1000
        },
        "id": "gKu1A26EQoex",
        "outputId": "84b97447-0cf5-4c17-9d13-9852d08d0871"
      },
      "execution_count": null,
      "outputs": [
        {
          "output_type": "stream",
          "name": "stderr",
          "text": [
            "Some weights of RobertaForQuestionAnswering were not initialized from the model checkpoint at roberta-base and are newly initialized: ['qa_outputs.bias', 'qa_outputs.weight']\n",
            "You should probably TRAIN this model on a down-stream task to be able to use it for predictions and inference.\n",
            "C:\\Users\\itama\\AppData\\Local\\Temp\\ipykernel_22616\\3604466964.py:24: FutureWarning: `tokenizer` is deprecated and will be removed in version 5.0.0 for `Trainer.__init__`. Use `processing_class` instead.\n",
            "  trainer = Trainer(\n"
          ]
        },
        {
          "output_type": "display_data",
          "data": {
            "text/plain": [
              "<IPython.core.display.HTML object>"
            ],
            "text/html": [
              "\n",
              "    <div>\n",
              "      \n",
              "      <progress value='1972' max='1972' style='width:300px; height:20px; vertical-align: middle;'></progress>\n",
              "      [1972/1972 05:11, Epoch 4/4]\n",
              "    </div>\n",
              "    <table border=\"1\" class=\"dataframe\">\n",
              "  <thead>\n",
              " <tr style=\"text-align: left;\">\n",
              "      <th>Epoch</th>\n",
              "      <th>Training Loss</th>\n",
              "      <th>Validation Loss</th>\n",
              "    </tr>\n",
              "  </thead>\n",
              "  <tbody>\n",
              "    <tr>\n",
              "      <td>1</td>\n",
              "      <td>2.419200</td>\n",
              "      <td>1.592356</td>\n",
              "    </tr>\n",
              "    <tr>\n",
              "      <td>2</td>\n",
              "      <td>1.370800</td>\n",
              "      <td>1.443877</td>\n",
              "    </tr>\n",
              "    <tr>\n",
              "      <td>3</td>\n",
              "      <td>0.966700</td>\n",
              "      <td>1.549258</td>\n",
              "    </tr>\n",
              "    <tr>\n",
              "      <td>4</td>\n",
              "      <td>0.755000</td>\n",
              "      <td>1.553453</td>\n",
              "    </tr>\n",
              "  </tbody>\n",
              "</table><p>"
            ]
          },
          "metadata": {}
        },
        {
          "output_type": "display_data",
          "data": {
            "text/plain": [
              "<IPython.core.display.HTML object>"
            ],
            "text/html": [
              "\n",
              "    <div>\n",
              "      \n",
              "      <progress value='66' max='66' style='width:300px; height:20px; vertical-align: middle;'></progress>\n",
              "      [66/66 00:02]\n",
              "    </div>\n",
              "    "
            ]
          },
          "metadata": {}
        },
        {
          "output_type": "stream",
          "name": "stderr",
          "text": [
            "Some weights of RobertaForQuestionAnswering were not initialized from the model checkpoint at roberta-base and are newly initialized: ['qa_outputs.bias', 'qa_outputs.weight']\n",
            "You should probably TRAIN this model on a down-stream task to be able to use it for predictions and inference.\n",
            "C:\\Users\\itama\\AppData\\Local\\Temp\\ipykernel_22616\\3604466964.py:24: FutureWarning: `tokenizer` is deprecated and will be removed in version 5.0.0 for `Trainer.__init__`. Use `processing_class` instead.\n",
            "  trainer = Trainer(\n"
          ]
        },
        {
          "output_type": "display_data",
          "data": {
            "text/plain": [
              "<IPython.core.display.HTML object>"
            ],
            "text/html": [
              "\n",
              "    <div>\n",
              "      \n",
              "      <progress value='988' max='988' style='width:300px; height:20px; vertical-align: middle;'></progress>\n",
              "      [988/988 04:17, Epoch 4/4]\n",
              "    </div>\n",
              "    <table border=\"1\" class=\"dataframe\">\n",
              "  <thead>\n",
              " <tr style=\"text-align: left;\">\n",
              "      <th>Epoch</th>\n",
              "      <th>Training Loss</th>\n",
              "      <th>Validation Loss</th>\n",
              "    </tr>\n",
              "  </thead>\n",
              "  <tbody>\n",
              "    <tr>\n",
              "      <td>1</td>\n",
              "      <td>2.663800</td>\n",
              "      <td>1.648668</td>\n",
              "    </tr>\n",
              "    <tr>\n",
              "      <td>2</td>\n",
              "      <td>1.510000</td>\n",
              "      <td>1.459249</td>\n",
              "    </tr>\n",
              "    <tr>\n",
              "      <td>3</td>\n",
              "      <td>1.131100</td>\n",
              "      <td>1.482214</td>\n",
              "    </tr>\n",
              "    <tr>\n",
              "      <td>4</td>\n",
              "      <td>0.952500</td>\n",
              "      <td>1.518535</td>\n",
              "    </tr>\n",
              "  </tbody>\n",
              "</table><p>"
            ]
          },
          "metadata": {}
        },
        {
          "output_type": "display_data",
          "data": {
            "text/plain": [
              "<IPython.core.display.HTML object>"
            ],
            "text/html": [
              "\n",
              "    <div>\n",
              "      \n",
              "      <progress value='33' max='33' style='width:300px; height:20px; vertical-align: middle;'></progress>\n",
              "      [33/33 00:02]\n",
              "    </div>\n",
              "    "
            ]
          },
          "metadata": {}
        },
        {
          "output_type": "stream",
          "name": "stderr",
          "text": [
            "Some weights of RobertaForQuestionAnswering were not initialized from the model checkpoint at roberta-base and are newly initialized: ['qa_outputs.bias', 'qa_outputs.weight']\n",
            "You should probably TRAIN this model on a down-stream task to be able to use it for predictions and inference.\n",
            "C:\\Users\\itama\\AppData\\Local\\Temp\\ipykernel_22616\\3604466964.py:24: FutureWarning: `tokenizer` is deprecated and will be removed in version 5.0.0 for `Trainer.__init__`. Use `processing_class` instead.\n",
            "  trainer = Trainer(\n"
          ]
        },
        {
          "output_type": "display_data",
          "data": {
            "text/plain": [
              "<IPython.core.display.HTML object>"
            ],
            "text/html": [
              "\n",
              "    <div>\n",
              "      \n",
              "      <progress value='496' max='496' style='width:300px; height:20px; vertical-align: middle;'></progress>\n",
              "      [496/496 03:52, Epoch 4/4]\n",
              "    </div>\n",
              "    <table border=\"1\" class=\"dataframe\">\n",
              "  <thead>\n",
              " <tr style=\"text-align: left;\">\n",
              "      <th>Epoch</th>\n",
              "      <th>Training Loss</th>\n",
              "      <th>Validation Loss</th>\n",
              "    </tr>\n",
              "  </thead>\n",
              "  <tbody>\n",
              "    <tr>\n",
              "      <td>1</td>\n",
              "      <td>3.038700</td>\n",
              "      <td>1.846918</td>\n",
              "    </tr>\n",
              "    <tr>\n",
              "      <td>2</td>\n",
              "      <td>1.725400</td>\n",
              "      <td>1.529513</td>\n",
              "    </tr>\n",
              "    <tr>\n",
              "      <td>3</td>\n",
              "      <td>1.363900</td>\n",
              "      <td>1.518432</td>\n",
              "    </tr>\n",
              "    <tr>\n",
              "      <td>4</td>\n",
              "      <td>1.202000</td>\n",
              "      <td>1.480897</td>\n",
              "    </tr>\n",
              "  </tbody>\n",
              "</table><p>"
            ]
          },
          "metadata": {}
        },
        {
          "output_type": "display_data",
          "data": {
            "text/plain": [
              "<IPython.core.display.HTML object>"
            ],
            "text/html": [
              "\n",
              "    <div>\n",
              "      \n",
              "      <progress value='17' max='17' style='width:300px; height:20px; vertical-align: middle;'></progress>\n",
              "      [17/17 00:02]\n",
              "    </div>\n",
              "    "
            ]
          },
          "metadata": {}
        },
        {
          "output_type": "stream",
          "name": "stderr",
          "text": [
            "Some weights of RobertaForQuestionAnswering were not initialized from the model checkpoint at roberta-base and are newly initialized: ['qa_outputs.bias', 'qa_outputs.weight']\n",
            "You should probably TRAIN this model on a down-stream task to be able to use it for predictions and inference.\n",
            "C:\\Users\\itama\\AppData\\Local\\Temp\\ipykernel_22616\\3604466964.py:24: FutureWarning: `tokenizer` is deprecated and will be removed in version 5.0.0 for `Trainer.__init__`. Use `processing_class` instead.\n",
            "  trainer = Trainer(\n"
          ]
        },
        {
          "output_type": "display_data",
          "data": {
            "text/plain": [
              "<IPython.core.display.HTML object>"
            ],
            "text/html": [
              "\n",
              "    <div>\n",
              "      \n",
              "      <progress value='248' max='248' style='width:300px; height:20px; vertical-align: middle;'></progress>\n",
              "      [248/248 12:46, Epoch 4/4]\n",
              "    </div>\n",
              "    <table border=\"1\" class=\"dataframe\">\n",
              "  <thead>\n",
              " <tr style=\"text-align: left;\">\n",
              "      <th>Epoch</th>\n",
              "      <th>Training Loss</th>\n",
              "      <th>Validation Loss</th>\n",
              "    </tr>\n",
              "  </thead>\n",
              "  <tbody>\n",
              "    <tr>\n",
              "      <td>1</td>\n",
              "      <td>3.568500</td>\n",
              "      <td>2.260418</td>\n",
              "    </tr>\n",
              "    <tr>\n",
              "      <td>2</td>\n",
              "      <td>2.071000</td>\n",
              "      <td>1.748519</td>\n",
              "    </tr>\n",
              "    <tr>\n",
              "      <td>3</td>\n",
              "      <td>1.657400</td>\n",
              "      <td>1.590883</td>\n",
              "    </tr>\n",
              "    <tr>\n",
              "      <td>4</td>\n",
              "      <td>1.473100</td>\n",
              "      <td>1.562928</td>\n",
              "    </tr>\n",
              "  </tbody>\n",
              "</table><p>"
            ]
          },
          "metadata": {}
        },
        {
          "output_type": "display_data",
          "data": {
            "text/plain": [
              "<IPython.core.display.HTML object>"
            ],
            "text/html": [
              "\n",
              "    <div>\n",
              "      \n",
              "      <progress value='9' max='9' style='width:300px; height:20px; vertical-align: middle;'></progress>\n",
              "      [9/9 00:02]\n",
              "    </div>\n",
              "    "
            ]
          },
          "metadata": {}
        }
      ]
    },
    {
      "cell_type": "markdown",
      "source": [
        "#### Testing Learning Rates"
      ],
      "metadata": {
        "id": "2rccSMQk0SxA"
      }
    },
    {
      "cell_type": "code",
      "source": [
        "results = []\n",
        "#learning_rates = [3e-4, 1e-4, 5e-5, 3e-5, 2e-5]\n",
        "learning_rates = [1e-5, 5e-6, 3e-6, 1e-6, 5e-7]\n",
        "\n",
        "for lr in learning_rates:\n",
        "  # Set training arguments\n",
        "  training_args = TrainingArguments(\n",
        "      output_dir=\"./results\",\n",
        "      eval_strategy=\"epoch\",\n",
        "      logging_strategy=\"epoch\",  # Logs at the end of each epoch\n",
        "      learning_rate=lr,\n",
        "      per_device_train_batch_size=8,\n",
        "      per_device_eval_batch_size=8,\n",
        "      num_train_epochs=16,\n",
        "      weight_decay=0.01,\n",
        "      report_to=\"none\",\n",
        "  )\n",
        "\n",
        "  # Load the pre-trained RoBERTa model and tokenizer\n",
        "  model_name = \"roberta-base\"  # You can also use \"roberta-large\"\n",
        "  tokenizer = RobertaTokenizerFast.from_pretrained(model_name)\n",
        "  model = RobertaForQuestionAnswering.from_pretrained(model_name).to(device)  # Move model to GPU\n",
        "\n",
        "  # Initialize Trainer\n",
        "  trainer = Trainer(\n",
        "      model=model,\n",
        "      args=training_args,\n",
        "      train_dataset=tokenized_train_data,\n",
        "      eval_dataset=tokenized_validation_data,\n",
        "      tokenizer=tokenizer,\n",
        "      data_collator=default_data_collator\n",
        "  )\n",
        "\n",
        "  # Train the model\n",
        "  trainer.train()\n",
        "\n",
        "  # Evaluate the model\n",
        "  eval_results = trainer.evaluate()\n",
        "\n",
        "  # Add evaluation results with learning rate to results list\n",
        "  eval_results[\"learning_rate\"] = lr\n",
        "  results.append(eval_results)\n",
        "\n",
        "# Save all results to CSV\n",
        "df_lr = pd.DataFrame(results)"
      ],
      "metadata": {
        "colab": {
          "base_uri": "https://localhost:8080/",
          "height": 1000
        },
        "id": "eZndFi3tRmz6",
        "outputId": "78109f2a-f755-4c87-db21-66073c7b2e68"
      },
      "execution_count": null,
      "outputs": [
        {
          "output_type": "stream",
          "name": "stderr",
          "text": [
            "Some weights of RobertaForQuestionAnswering were not initialized from the model checkpoint at roberta-base and are newly initialized: ['qa_outputs.bias', 'qa_outputs.weight']\n",
            "You should probably TRAIN this model on a down-stream task to be able to use it for predictions and inference.\n",
            "C:\\Users\\itama\\AppData\\Local\\Temp\\ipykernel_35428\\4292291089.py:25: FutureWarning: `tokenizer` is deprecated and will be removed in version 5.0.0 for `Trainer.__init__`. Use `processing_class` instead.\n",
            "  trainer = Trainer(\n"
          ]
        },
        {
          "output_type": "display_data",
          "data": {
            "text/plain": [
              "<IPython.core.display.HTML object>"
            ],
            "text/html": [
              "\n",
              "    <div>\n",
              "      \n",
              "      <progress value='7888' max='7888' style='width:300px; height:20px; vertical-align: middle;'></progress>\n",
              "      [7888/7888 20:50, Epoch 16/16]\n",
              "    </div>\n",
              "    <table border=\"1\" class=\"dataframe\">\n",
              "  <thead>\n",
              " <tr style=\"text-align: left;\">\n",
              "      <th>Epoch</th>\n",
              "      <th>Training Loss</th>\n",
              "      <th>Validation Loss</th>\n",
              "    </tr>\n",
              "  </thead>\n",
              "  <tbody>\n",
              "    <tr>\n",
              "      <td>1</td>\n",
              "      <td>2.640000</td>\n",
              "      <td>1.713740</td>\n",
              "    </tr>\n",
              "    <tr>\n",
              "      <td>2</td>\n",
              "      <td>1.571500</td>\n",
              "      <td>1.473481</td>\n",
              "    </tr>\n",
              "    <tr>\n",
              "      <td>3</td>\n",
              "      <td>1.207900</td>\n",
              "      <td>1.444690</td>\n",
              "    </tr>\n",
              "    <tr>\n",
              "      <td>4</td>\n",
              "      <td>0.936700</td>\n",
              "      <td>1.541754</td>\n",
              "    </tr>\n",
              "    <tr>\n",
              "      <td>5</td>\n",
              "      <td>0.757100</td>\n",
              "      <td>1.722897</td>\n",
              "    </tr>\n",
              "    <tr>\n",
              "      <td>6</td>\n",
              "      <td>0.611600</td>\n",
              "      <td>1.796070</td>\n",
              "    </tr>\n",
              "    <tr>\n",
              "      <td>7</td>\n",
              "      <td>0.498400</td>\n",
              "      <td>1.869048</td>\n",
              "    </tr>\n",
              "    <tr>\n",
              "      <td>8</td>\n",
              "      <td>0.420700</td>\n",
              "      <td>1.964611</td>\n",
              "    </tr>\n",
              "    <tr>\n",
              "      <td>9</td>\n",
              "      <td>0.355800</td>\n",
              "      <td>2.085435</td>\n",
              "    </tr>\n",
              "    <tr>\n",
              "      <td>10</td>\n",
              "      <td>0.308000</td>\n",
              "      <td>2.245294</td>\n",
              "    </tr>\n",
              "    <tr>\n",
              "      <td>11</td>\n",
              "      <td>0.265200</td>\n",
              "      <td>2.328209</td>\n",
              "    </tr>\n",
              "    <tr>\n",
              "      <td>12</td>\n",
              "      <td>0.221600</td>\n",
              "      <td>2.528634</td>\n",
              "    </tr>\n",
              "    <tr>\n",
              "      <td>13</td>\n",
              "      <td>0.202000</td>\n",
              "      <td>2.546630</td>\n",
              "    </tr>\n",
              "    <tr>\n",
              "      <td>14</td>\n",
              "      <td>0.193100</td>\n",
              "      <td>2.675206</td>\n",
              "    </tr>\n",
              "    <tr>\n",
              "      <td>15</td>\n",
              "      <td>0.166100</td>\n",
              "      <td>2.663660</td>\n",
              "    </tr>\n",
              "    <tr>\n",
              "      <td>16</td>\n",
              "      <td>0.156700</td>\n",
              "      <td>2.729702</td>\n",
              "    </tr>\n",
              "  </tbody>\n",
              "</table><p>"
            ]
          },
          "metadata": {}
        },
        {
          "output_type": "display_data",
          "data": {
            "text/plain": [
              "<IPython.core.display.HTML object>"
            ],
            "text/html": [
              "\n",
              "    <div>\n",
              "      \n",
              "      <progress value='66' max='66' style='width:300px; height:20px; vertical-align: middle;'></progress>\n",
              "      [66/66 00:02]\n",
              "    </div>\n",
              "    "
            ]
          },
          "metadata": {}
        },
        {
          "output_type": "stream",
          "name": "stderr",
          "text": [
            "Some weights of RobertaForQuestionAnswering were not initialized from the model checkpoint at roberta-base and are newly initialized: ['qa_outputs.bias', 'qa_outputs.weight']\n",
            "You should probably TRAIN this model on a down-stream task to be able to use it for predictions and inference.\n",
            "C:\\Users\\itama\\AppData\\Local\\Temp\\ipykernel_35428\\4292291089.py:25: FutureWarning: `tokenizer` is deprecated and will be removed in version 5.0.0 for `Trainer.__init__`. Use `processing_class` instead.\n",
            "  trainer = Trainer(\n"
          ]
        },
        {
          "output_type": "display_data",
          "data": {
            "text/plain": [
              "<IPython.core.display.HTML object>"
            ],
            "text/html": [
              "\n",
              "    <div>\n",
              "      \n",
              "      <progress value='7888' max='7888' style='width:300px; height:20px; vertical-align: middle;'></progress>\n",
              "      [7888/7888 20:51, Epoch 16/16]\n",
              "    </div>\n",
              "    <table border=\"1\" class=\"dataframe\">\n",
              "  <thead>\n",
              " <tr style=\"text-align: left;\">\n",
              "      <th>Epoch</th>\n",
              "      <th>Training Loss</th>\n",
              "      <th>Validation Loss</th>\n",
              "    </tr>\n",
              "  </thead>\n",
              "  <tbody>\n",
              "    <tr>\n",
              "      <td>1</td>\n",
              "      <td>3.161500</td>\n",
              "      <td>1.954991</td>\n",
              "    </tr>\n",
              "    <tr>\n",
              "      <td>2</td>\n",
              "      <td>1.916100</td>\n",
              "      <td>1.652431</td>\n",
              "    </tr>\n",
              "    <tr>\n",
              "      <td>3</td>\n",
              "      <td>1.557700</td>\n",
              "      <td>1.573736</td>\n",
              "    </tr>\n",
              "    <tr>\n",
              "      <td>4</td>\n",
              "      <td>1.336600</td>\n",
              "      <td>1.510206</td>\n",
              "    </tr>\n",
              "    <tr>\n",
              "      <td>5</td>\n",
              "      <td>1.183600</td>\n",
              "      <td>1.586888</td>\n",
              "    </tr>\n",
              "    <tr>\n",
              "      <td>6</td>\n",
              "      <td>1.042400</td>\n",
              "      <td>1.564171</td>\n",
              "    </tr>\n",
              "    <tr>\n",
              "      <td>7</td>\n",
              "      <td>0.933100</td>\n",
              "      <td>1.628091</td>\n",
              "    </tr>\n",
              "    <tr>\n",
              "      <td>8</td>\n",
              "      <td>0.853400</td>\n",
              "      <td>1.599863</td>\n",
              "    </tr>\n",
              "    <tr>\n",
              "      <td>9</td>\n",
              "      <td>0.786900</td>\n",
              "      <td>1.642444</td>\n",
              "    </tr>\n",
              "    <tr>\n",
              "      <td>10</td>\n",
              "      <td>0.718600</td>\n",
              "      <td>1.697127</td>\n",
              "    </tr>\n",
              "    <tr>\n",
              "      <td>11</td>\n",
              "      <td>0.662900</td>\n",
              "      <td>1.729101</td>\n",
              "    </tr>\n",
              "    <tr>\n",
              "      <td>12</td>\n",
              "      <td>0.629000</td>\n",
              "      <td>1.783300</td>\n",
              "    </tr>\n",
              "    <tr>\n",
              "      <td>13</td>\n",
              "      <td>0.591200</td>\n",
              "      <td>1.784454</td>\n",
              "    </tr>\n",
              "    <tr>\n",
              "      <td>14</td>\n",
              "      <td>0.574800</td>\n",
              "      <td>1.856468</td>\n",
              "    </tr>\n",
              "    <tr>\n",
              "      <td>15</td>\n",
              "      <td>0.546800</td>\n",
              "      <td>1.879202</td>\n",
              "    </tr>\n",
              "    <tr>\n",
              "      <td>16</td>\n",
              "      <td>0.536600</td>\n",
              "      <td>1.875736</td>\n",
              "    </tr>\n",
              "  </tbody>\n",
              "</table><p>"
            ]
          },
          "metadata": {}
        },
        {
          "output_type": "display_data",
          "data": {
            "text/plain": [
              "<IPython.core.display.HTML object>"
            ],
            "text/html": [
              "\n",
              "    <div>\n",
              "      \n",
              "      <progress value='66' max='66' style='width:300px; height:20px; vertical-align: middle;'></progress>\n",
              "      [66/66 00:02]\n",
              "    </div>\n",
              "    "
            ]
          },
          "metadata": {}
        },
        {
          "output_type": "stream",
          "name": "stderr",
          "text": [
            "Some weights of RobertaForQuestionAnswering were not initialized from the model checkpoint at roberta-base and are newly initialized: ['qa_outputs.bias', 'qa_outputs.weight']\n",
            "You should probably TRAIN this model on a down-stream task to be able to use it for predictions and inference.\n",
            "C:\\Users\\itama\\AppData\\Local\\Temp\\ipykernel_35428\\4292291089.py:25: FutureWarning: `tokenizer` is deprecated and will be removed in version 5.0.0 for `Trainer.__init__`. Use `processing_class` instead.\n",
            "  trainer = Trainer(\n"
          ]
        },
        {
          "output_type": "display_data",
          "data": {
            "text/plain": [
              "<IPython.core.display.HTML object>"
            ],
            "text/html": [
              "\n",
              "    <div>\n",
              "      \n",
              "      <progress value='7888' max='7888' style='width:300px; height:20px; vertical-align: middle;'></progress>\n",
              "      [7888/7888 20:44, Epoch 16/16]\n",
              "    </div>\n",
              "    <table border=\"1\" class=\"dataframe\">\n",
              "  <thead>\n",
              " <tr style=\"text-align: left;\">\n",
              "      <th>Epoch</th>\n",
              "      <th>Training Loss</th>\n",
              "      <th>Validation Loss</th>\n",
              "    </tr>\n",
              "  </thead>\n",
              "  <tbody>\n",
              "    <tr>\n",
              "      <td>1</td>\n",
              "      <td>3.627000</td>\n",
              "      <td>2.421908</td>\n",
              "    </tr>\n",
              "    <tr>\n",
              "      <td>2</td>\n",
              "      <td>2.250300</td>\n",
              "      <td>1.893004</td>\n",
              "    </tr>\n",
              "    <tr>\n",
              "      <td>3</td>\n",
              "      <td>1.844700</td>\n",
              "      <td>1.739214</td>\n",
              "    </tr>\n",
              "    <tr>\n",
              "      <td>4</td>\n",
              "      <td>1.626500</td>\n",
              "      <td>1.647288</td>\n",
              "    </tr>\n",
              "    <tr>\n",
              "      <td>5</td>\n",
              "      <td>1.476700</td>\n",
              "      <td>1.628941</td>\n",
              "    </tr>\n",
              "    <tr>\n",
              "      <td>6</td>\n",
              "      <td>1.361300</td>\n",
              "      <td>1.585970</td>\n",
              "    </tr>\n",
              "    <tr>\n",
              "      <td>7</td>\n",
              "      <td>1.264700</td>\n",
              "      <td>1.586451</td>\n",
              "    </tr>\n",
              "    <tr>\n",
              "      <td>8</td>\n",
              "      <td>1.175400</td>\n",
              "      <td>1.541136</td>\n",
              "    </tr>\n",
              "    <tr>\n",
              "      <td>9</td>\n",
              "      <td>1.121900</td>\n",
              "      <td>1.561605</td>\n",
              "    </tr>\n",
              "    <tr>\n",
              "      <td>10</td>\n",
              "      <td>1.066800</td>\n",
              "      <td>1.572866</td>\n",
              "    </tr>\n",
              "    <tr>\n",
              "      <td>11</td>\n",
              "      <td>1.014600</td>\n",
              "      <td>1.579970</td>\n",
              "    </tr>\n",
              "    <tr>\n",
              "      <td>12</td>\n",
              "      <td>0.979100</td>\n",
              "      <td>1.599074</td>\n",
              "    </tr>\n",
              "    <tr>\n",
              "      <td>13</td>\n",
              "      <td>0.950100</td>\n",
              "      <td>1.594736</td>\n",
              "    </tr>\n",
              "    <tr>\n",
              "      <td>14</td>\n",
              "      <td>0.924500</td>\n",
              "      <td>1.629567</td>\n",
              "    </tr>\n",
              "    <tr>\n",
              "      <td>15</td>\n",
              "      <td>0.895900</td>\n",
              "      <td>1.625080</td>\n",
              "    </tr>\n",
              "    <tr>\n",
              "      <td>16</td>\n",
              "      <td>0.894600</td>\n",
              "      <td>1.625612</td>\n",
              "    </tr>\n",
              "  </tbody>\n",
              "</table><p>"
            ]
          },
          "metadata": {}
        },
        {
          "output_type": "display_data",
          "data": {
            "text/plain": [
              "<IPython.core.display.HTML object>"
            ],
            "text/html": [
              "\n",
              "    <div>\n",
              "      \n",
              "      <progress value='66' max='66' style='width:300px; height:20px; vertical-align: middle;'></progress>\n",
              "      [66/66 00:02]\n",
              "    </div>\n",
              "    "
            ]
          },
          "metadata": {}
        },
        {
          "output_type": "stream",
          "name": "stderr",
          "text": [
            "Some weights of RobertaForQuestionAnswering were not initialized from the model checkpoint at roberta-base and are newly initialized: ['qa_outputs.bias', 'qa_outputs.weight']\n",
            "You should probably TRAIN this model on a down-stream task to be able to use it for predictions and inference.\n",
            "C:\\Users\\itama\\AppData\\Local\\Temp\\ipykernel_35428\\4292291089.py:25: FutureWarning: `tokenizer` is deprecated and will be removed in version 5.0.0 for `Trainer.__init__`. Use `processing_class` instead.\n",
            "  trainer = Trainer(\n"
          ]
        },
        {
          "output_type": "display_data",
          "data": {
            "text/plain": [
              "<IPython.core.display.HTML object>"
            ],
            "text/html": [
              "\n",
              "    <div>\n",
              "      \n",
              "      <progress value='7888' max='7888' style='width:300px; height:20px; vertical-align: middle;'></progress>\n",
              "      [7888/7888 20:48, Epoch 16/16]\n",
              "    </div>\n",
              "    <table border=\"1\" class=\"dataframe\">\n",
              "  <thead>\n",
              " <tr style=\"text-align: left;\">\n",
              "      <th>Epoch</th>\n",
              "      <th>Training Loss</th>\n",
              "      <th>Validation Loss</th>\n",
              "    </tr>\n",
              "  </thead>\n",
              "  <tbody>\n",
              "    <tr>\n",
              "      <td>1</td>\n",
              "      <td>4.462800</td>\n",
              "      <td>3.862408</td>\n",
              "    </tr>\n",
              "    <tr>\n",
              "      <td>2</td>\n",
              "      <td>3.419900</td>\n",
              "      <td>2.883115</td>\n",
              "    </tr>\n",
              "    <tr>\n",
              "      <td>3</td>\n",
              "      <td>2.842400</td>\n",
              "      <td>2.495553</td>\n",
              "    </tr>\n",
              "    <tr>\n",
              "      <td>4</td>\n",
              "      <td>2.456600</td>\n",
              "      <td>2.188798</td>\n",
              "    </tr>\n",
              "    <tr>\n",
              "      <td>5</td>\n",
              "      <td>2.210100</td>\n",
              "      <td>2.057454</td>\n",
              "    </tr>\n",
              "    <tr>\n",
              "      <td>6</td>\n",
              "      <td>2.062400</td>\n",
              "      <td>1.966822</td>\n",
              "    </tr>\n",
              "    <tr>\n",
              "      <td>7</td>\n",
              "      <td>1.971200</td>\n",
              "      <td>1.926562</td>\n",
              "    </tr>\n",
              "    <tr>\n",
              "      <td>8</td>\n",
              "      <td>1.894800</td>\n",
              "      <td>1.862131</td>\n",
              "    </tr>\n",
              "    <tr>\n",
              "      <td>9</td>\n",
              "      <td>1.826500</td>\n",
              "      <td>1.827028</td>\n",
              "    </tr>\n",
              "    <tr>\n",
              "      <td>10</td>\n",
              "      <td>1.775600</td>\n",
              "      <td>1.807655</td>\n",
              "    </tr>\n",
              "    <tr>\n",
              "      <td>11</td>\n",
              "      <td>1.744600</td>\n",
              "      <td>1.785176</td>\n",
              "    </tr>\n",
              "    <tr>\n",
              "      <td>12</td>\n",
              "      <td>1.710000</td>\n",
              "      <td>1.762406</td>\n",
              "    </tr>\n",
              "    <tr>\n",
              "      <td>13</td>\n",
              "      <td>1.691100</td>\n",
              "      <td>1.738881</td>\n",
              "    </tr>\n",
              "    <tr>\n",
              "      <td>14</td>\n",
              "      <td>1.656100</td>\n",
              "      <td>1.750880</td>\n",
              "    </tr>\n",
              "    <tr>\n",
              "      <td>15</td>\n",
              "      <td>1.647600</td>\n",
              "      <td>1.743349</td>\n",
              "    </tr>\n",
              "    <tr>\n",
              "      <td>16</td>\n",
              "      <td>1.636400</td>\n",
              "      <td>1.733214</td>\n",
              "    </tr>\n",
              "  </tbody>\n",
              "</table><p>"
            ]
          },
          "metadata": {}
        },
        {
          "output_type": "display_data",
          "data": {
            "text/plain": [
              "<IPython.core.display.HTML object>"
            ],
            "text/html": [
              "\n",
              "    <div>\n",
              "      \n",
              "      <progress value='66' max='66' style='width:300px; height:20px; vertical-align: middle;'></progress>\n",
              "      [66/66 00:02]\n",
              "    </div>\n",
              "    "
            ]
          },
          "metadata": {}
        },
        {
          "output_type": "stream",
          "name": "stderr",
          "text": [
            "Some weights of RobertaForQuestionAnswering were not initialized from the model checkpoint at roberta-base and are newly initialized: ['qa_outputs.bias', 'qa_outputs.weight']\n",
            "You should probably TRAIN this model on a down-stream task to be able to use it for predictions and inference.\n",
            "C:\\Users\\itama\\AppData\\Local\\Temp\\ipykernel_35428\\4292291089.py:25: FutureWarning: `tokenizer` is deprecated and will be removed in version 5.0.0 for `Trainer.__init__`. Use `processing_class` instead.\n",
            "  trainer = Trainer(\n"
          ]
        },
        {
          "output_type": "display_data",
          "data": {
            "text/plain": [
              "<IPython.core.display.HTML object>"
            ],
            "text/html": [
              "\n",
              "    <div>\n",
              "      \n",
              "      <progress value='7888' max='7888' style='width:300px; height:20px; vertical-align: middle;'></progress>\n",
              "      [7888/7888 20:48, Epoch 16/16]\n",
              "    </div>\n",
              "    <table border=\"1\" class=\"dataframe\">\n",
              "  <thead>\n",
              " <tr style=\"text-align: left;\">\n",
              "      <th>Epoch</th>\n",
              "      <th>Training Loss</th>\n",
              "      <th>Validation Loss</th>\n",
              "    </tr>\n",
              "  </thead>\n",
              "  <tbody>\n",
              "    <tr>\n",
              "      <td>1</td>\n",
              "      <td>4.712200</td>\n",
              "      <td>4.417273</td>\n",
              "    </tr>\n",
              "    <tr>\n",
              "      <td>2</td>\n",
              "      <td>4.216400</td>\n",
              "      <td>3.876984</td>\n",
              "    </tr>\n",
              "    <tr>\n",
              "      <td>3</td>\n",
              "      <td>3.649000</td>\n",
              "      <td>3.239571</td>\n",
              "    </tr>\n",
              "    <tr>\n",
              "      <td>4</td>\n",
              "      <td>3.254600</td>\n",
              "      <td>2.950964</td>\n",
              "    </tr>\n",
              "    <tr>\n",
              "      <td>5</td>\n",
              "      <td>3.011800</td>\n",
              "      <td>2.744747</td>\n",
              "    </tr>\n",
              "    <tr>\n",
              "      <td>6</td>\n",
              "      <td>2.804900</td>\n",
              "      <td>2.573191</td>\n",
              "    </tr>\n",
              "    <tr>\n",
              "      <td>7</td>\n",
              "      <td>2.663100</td>\n",
              "      <td>2.455433</td>\n",
              "    </tr>\n",
              "    <tr>\n",
              "      <td>8</td>\n",
              "      <td>2.513700</td>\n",
              "      <td>2.312817</td>\n",
              "    </tr>\n",
              "    <tr>\n",
              "      <td>9</td>\n",
              "      <td>2.391900</td>\n",
              "      <td>2.233085</td>\n",
              "    </tr>\n",
              "    <tr>\n",
              "      <td>10</td>\n",
              "      <td>2.308500</td>\n",
              "      <td>2.178524</td>\n",
              "    </tr>\n",
              "    <tr>\n",
              "      <td>11</td>\n",
              "      <td>2.261200</td>\n",
              "      <td>2.150926</td>\n",
              "    </tr>\n",
              "    <tr>\n",
              "      <td>12</td>\n",
              "      <td>2.218100</td>\n",
              "      <td>2.123705</td>\n",
              "    </tr>\n",
              "    <tr>\n",
              "      <td>13</td>\n",
              "      <td>2.187700</td>\n",
              "      <td>2.095682</td>\n",
              "    </tr>\n",
              "    <tr>\n",
              "      <td>14</td>\n",
              "      <td>2.158000</td>\n",
              "      <td>2.094014</td>\n",
              "    </tr>\n",
              "    <tr>\n",
              "      <td>15</td>\n",
              "      <td>2.147800</td>\n",
              "      <td>2.084298</td>\n",
              "    </tr>\n",
              "    <tr>\n",
              "      <td>16</td>\n",
              "      <td>2.132700</td>\n",
              "      <td>2.077736</td>\n",
              "    </tr>\n",
              "  </tbody>\n",
              "</table><p>"
            ]
          },
          "metadata": {}
        },
        {
          "output_type": "display_data",
          "data": {
            "text/plain": [
              "<IPython.core.display.HTML object>"
            ],
            "text/html": [
              "\n",
              "    <div>\n",
              "      \n",
              "      <progress value='66' max='66' style='width:300px; height:20px; vertical-align: middle;'></progress>\n",
              "      [66/66 00:02]\n",
              "    </div>\n",
              "    "
            ]
          },
          "metadata": {}
        }
      ]
    },
    {
      "cell_type": "markdown",
      "source": [
        "#### Testing Weight Decays"
      ],
      "metadata": {
        "id": "vrVdSx4q0N9o"
      }
    },
    {
      "cell_type": "code",
      "source": [
        "results = []\n",
        "weight_decays = [0.001, 0.01, 0.05, 0.1]\n",
        "\n",
        "for weight in weight_decays:\n",
        "  # Set training arguments\n",
        "  training_args = TrainingArguments(\n",
        "      output_dir=\"./results\",\n",
        "      eval_strategy=\"epoch\",\n",
        "      logging_strategy=\"epoch\",  # Logs at the end of each epoch\n",
        "      learning_rate=2e-5,\n",
        "      per_device_train_batch_size=8,\n",
        "      per_device_eval_batch_size=8,\n",
        "      num_train_epochs=4,\n",
        "      weight_decay=weight,\n",
        "      report_to=\"none\",\n",
        "  )\n",
        "\n",
        "  # Load the pre-trained RoBERTa model and tokenizer\n",
        "  model_name = \"roberta-base\"  # You can also use \"roberta-large\"\n",
        "  tokenizer = RobertaTokenizerFast.from_pretrained(model_name)\n",
        "  model = RobertaForQuestionAnswering.from_pretrained(model_name).to(device)  # Move model to GPU\n",
        "\n",
        "  # Initialize Trainer\n",
        "  trainer = Trainer(\n",
        "      model=model,\n",
        "      args=training_args,\n",
        "      train_dataset=tokenized_train_data,\n",
        "      eval_dataset=tokenized_validation_data,\n",
        "      tokenizer=tokenizer,\n",
        "      data_collator=default_data_collator\n",
        "  )\n",
        "\n",
        "  # Train the model\n",
        "  trainer.train()\n",
        "\n",
        "  # Evaluate the model\n",
        "  eval_results = trainer.evaluate()\n",
        "\n",
        "  # Add evaluation results with weight deacy to results list\n",
        "  eval_results[\"weight_decay\"] = weight\n",
        "  results.append(eval_results)\n",
        "\n",
        "# Save all results to CSV\n",
        "df_weight = pd.DataFrame(results)"
      ],
      "metadata": {
        "colab": {
          "base_uri": "https://localhost:8080/",
          "height": 1000
        },
        "id": "DRVZg9pLB8gw",
        "outputId": "aa94e05c-19bc-40b1-eba1-f92ee7c040aa"
      },
      "execution_count": null,
      "outputs": [
        {
          "output_type": "stream",
          "name": "stderr",
          "text": [
            "Some weights of RobertaForQuestionAnswering were not initialized from the model checkpoint at roberta-base and are newly initialized: ['qa_outputs.bias', 'qa_outputs.weight']\n",
            "You should probably TRAIN this model on a down-stream task to be able to use it for predictions and inference.\n",
            "C:\\Users\\itama\\AppData\\Local\\Temp\\ipykernel_35428\\648402470.py:24: FutureWarning: `tokenizer` is deprecated and will be removed in version 5.0.0 for `Trainer.__init__`. Use `processing_class` instead.\n",
            "  trainer = Trainer(\n"
          ]
        },
        {
          "output_type": "display_data",
          "data": {
            "text/plain": [
              "<IPython.core.display.HTML object>"
            ],
            "text/html": [
              "\n",
              "    <div>\n",
              "      \n",
              "      <progress value='1972' max='1972' style='width:300px; height:20px; vertical-align: middle;'></progress>\n",
              "      [1972/1972 05:12, Epoch 4/4]\n",
              "    </div>\n",
              "    <table border=\"1\" class=\"dataframe\">\n",
              "  <thead>\n",
              " <tr style=\"text-align: left;\">\n",
              "      <th>Epoch</th>\n",
              "      <th>Training Loss</th>\n",
              "      <th>Validation Loss</th>\n",
              "    </tr>\n",
              "  </thead>\n",
              "  <tbody>\n",
              "    <tr>\n",
              "      <td>1</td>\n",
              "      <td>2.379500</td>\n",
              "      <td>1.544812</td>\n",
              "    </tr>\n",
              "    <tr>\n",
              "      <td>2</td>\n",
              "      <td>1.391400</td>\n",
              "      <td>1.431676</td>\n",
              "    </tr>\n",
              "    <tr>\n",
              "      <td>3</td>\n",
              "      <td>0.989300</td>\n",
              "      <td>1.505299</td>\n",
              "    </tr>\n",
              "    <tr>\n",
              "      <td>4</td>\n",
              "      <td>0.762400</td>\n",
              "      <td>1.514862</td>\n",
              "    </tr>\n",
              "  </tbody>\n",
              "</table><p>"
            ]
          },
          "metadata": {}
        },
        {
          "output_type": "display_data",
          "data": {
            "text/plain": [
              "<IPython.core.display.HTML object>"
            ],
            "text/html": [
              "\n",
              "    <div>\n",
              "      \n",
              "      <progress value='66' max='66' style='width:300px; height:20px; vertical-align: middle;'></progress>\n",
              "      [66/66 00:02]\n",
              "    </div>\n",
              "    "
            ]
          },
          "metadata": {}
        },
        {
          "output_type": "stream",
          "name": "stderr",
          "text": [
            "Some weights of RobertaForQuestionAnswering were not initialized from the model checkpoint at roberta-base and are newly initialized: ['qa_outputs.bias', 'qa_outputs.weight']\n",
            "You should probably TRAIN this model on a down-stream task to be able to use it for predictions and inference.\n",
            "C:\\Users\\itama\\AppData\\Local\\Temp\\ipykernel_35428\\648402470.py:24: FutureWarning: `tokenizer` is deprecated and will be removed in version 5.0.0 for `Trainer.__init__`. Use `processing_class` instead.\n",
            "  trainer = Trainer(\n"
          ]
        },
        {
          "output_type": "display_data",
          "data": {
            "text/plain": [
              "<IPython.core.display.HTML object>"
            ],
            "text/html": [
              "\n",
              "    <div>\n",
              "      \n",
              "      <progress value='1972' max='1972' style='width:300px; height:20px; vertical-align: middle;'></progress>\n",
              "      [1972/1972 05:25, Epoch 4/4]\n",
              "    </div>\n",
              "    <table border=\"1\" class=\"dataframe\">\n",
              "  <thead>\n",
              " <tr style=\"text-align: left;\">\n",
              "      <th>Epoch</th>\n",
              "      <th>Training Loss</th>\n",
              "      <th>Validation Loss</th>\n",
              "    </tr>\n",
              "  </thead>\n",
              "  <tbody>\n",
              "    <tr>\n",
              "      <td>1</td>\n",
              "      <td>2.386400</td>\n",
              "      <td>1.579632</td>\n",
              "    </tr>\n",
              "    <tr>\n",
              "      <td>2</td>\n",
              "      <td>1.357000</td>\n",
              "      <td>1.411588</td>\n",
              "    </tr>\n",
              "    <tr>\n",
              "      <td>3</td>\n",
              "      <td>0.969000</td>\n",
              "      <td>1.495125</td>\n",
              "    </tr>\n",
              "    <tr>\n",
              "      <td>4</td>\n",
              "      <td>0.738800</td>\n",
              "      <td>1.531484</td>\n",
              "    </tr>\n",
              "  </tbody>\n",
              "</table><p>"
            ]
          },
          "metadata": {}
        },
        {
          "output_type": "display_data",
          "data": {
            "text/plain": [
              "<IPython.core.display.HTML object>"
            ],
            "text/html": [
              "\n",
              "    <div>\n",
              "      \n",
              "      <progress value='66' max='66' style='width:300px; height:20px; vertical-align: middle;'></progress>\n",
              "      [66/66 00:02]\n",
              "    </div>\n",
              "    "
            ]
          },
          "metadata": {}
        },
        {
          "output_type": "stream",
          "name": "stderr",
          "text": [
            "Some weights of RobertaForQuestionAnswering were not initialized from the model checkpoint at roberta-base and are newly initialized: ['qa_outputs.bias', 'qa_outputs.weight']\n",
            "You should probably TRAIN this model on a down-stream task to be able to use it for predictions and inference.\n",
            "C:\\Users\\itama\\AppData\\Local\\Temp\\ipykernel_35428\\648402470.py:24: FutureWarning: `tokenizer` is deprecated and will be removed in version 5.0.0 for `Trainer.__init__`. Use `processing_class` instead.\n",
            "  trainer = Trainer(\n"
          ]
        },
        {
          "output_type": "display_data",
          "data": {
            "text/plain": [
              "<IPython.core.display.HTML object>"
            ],
            "text/html": [
              "\n",
              "    <div>\n",
              "      \n",
              "      <progress value='1972' max='1972' style='width:300px; height:20px; vertical-align: middle;'></progress>\n",
              "      [1972/1972 05:11, Epoch 4/4]\n",
              "    </div>\n",
              "    <table border=\"1\" class=\"dataframe\">\n",
              "  <thead>\n",
              " <tr style=\"text-align: left;\">\n",
              "      <th>Epoch</th>\n",
              "      <th>Training Loss</th>\n",
              "      <th>Validation Loss</th>\n",
              "    </tr>\n",
              "  </thead>\n",
              "  <tbody>\n",
              "    <tr>\n",
              "      <td>1</td>\n",
              "      <td>2.378400</td>\n",
              "      <td>1.592324</td>\n",
              "    </tr>\n",
              "    <tr>\n",
              "      <td>2</td>\n",
              "      <td>1.353100</td>\n",
              "      <td>1.428435</td>\n",
              "    </tr>\n",
              "    <tr>\n",
              "      <td>3</td>\n",
              "      <td>0.963000</td>\n",
              "      <td>1.478950</td>\n",
              "    </tr>\n",
              "    <tr>\n",
              "      <td>4</td>\n",
              "      <td>0.721300</td>\n",
              "      <td>1.554780</td>\n",
              "    </tr>\n",
              "  </tbody>\n",
              "</table><p>"
            ]
          },
          "metadata": {}
        },
        {
          "output_type": "display_data",
          "data": {
            "text/plain": [
              "<IPython.core.display.HTML object>"
            ],
            "text/html": [
              "\n",
              "    <div>\n",
              "      \n",
              "      <progress value='66' max='66' style='width:300px; height:20px; vertical-align: middle;'></progress>\n",
              "      [66/66 00:02]\n",
              "    </div>\n",
              "    "
            ]
          },
          "metadata": {}
        },
        {
          "output_type": "stream",
          "name": "stderr",
          "text": [
            "Some weights of RobertaForQuestionAnswering were not initialized from the model checkpoint at roberta-base and are newly initialized: ['qa_outputs.bias', 'qa_outputs.weight']\n",
            "You should probably TRAIN this model on a down-stream task to be able to use it for predictions and inference.\n",
            "C:\\Users\\itama\\AppData\\Local\\Temp\\ipykernel_35428\\648402470.py:24: FutureWarning: `tokenizer` is deprecated and will be removed in version 5.0.0 for `Trainer.__init__`. Use `processing_class` instead.\n",
            "  trainer = Trainer(\n"
          ]
        },
        {
          "output_type": "display_data",
          "data": {
            "text/plain": [
              "<IPython.core.display.HTML object>"
            ],
            "text/html": [
              "\n",
              "    <div>\n",
              "      \n",
              "      <progress value='1972' max='1972' style='width:300px; height:20px; vertical-align: middle;'></progress>\n",
              "      [1972/1972 05:25, Epoch 4/4]\n",
              "    </div>\n",
              "    <table border=\"1\" class=\"dataframe\">\n",
              "  <thead>\n",
              " <tr style=\"text-align: left;\">\n",
              "      <th>Epoch</th>\n",
              "      <th>Training Loss</th>\n",
              "      <th>Validation Loss</th>\n",
              "    </tr>\n",
              "  </thead>\n",
              "  <tbody>\n",
              "    <tr>\n",
              "      <td>1</td>\n",
              "      <td>2.381400</td>\n",
              "      <td>1.548139</td>\n",
              "    </tr>\n",
              "    <tr>\n",
              "      <td>2</td>\n",
              "      <td>1.366800</td>\n",
              "      <td>1.437580</td>\n",
              "    </tr>\n",
              "    <tr>\n",
              "      <td>3</td>\n",
              "      <td>0.974100</td>\n",
              "      <td>1.504637</td>\n",
              "    </tr>\n",
              "    <tr>\n",
              "      <td>4</td>\n",
              "      <td>0.743500</td>\n",
              "      <td>1.545683</td>\n",
              "    </tr>\n",
              "  </tbody>\n",
              "</table><p>"
            ]
          },
          "metadata": {}
        },
        {
          "output_type": "display_data",
          "data": {
            "text/plain": [
              "<IPython.core.display.HTML object>"
            ],
            "text/html": [
              "\n",
              "    <div>\n",
              "      \n",
              "      <progress value='66' max='66' style='width:300px; height:20px; vertical-align: middle;'></progress>\n",
              "      [66/66 00:02]\n",
              "    </div>\n",
              "    "
            ]
          },
          "metadata": {}
        }
      ]
    },
    {
      "cell_type": "markdown",
      "source": [
        "#### Finale Model"
      ],
      "metadata": {
        "id": "mUwZDIm80i5-"
      }
    },
    {
      "cell_type": "code",
      "source": [
        "# Apply the preprocess_function to the full dataset\n",
        "tokenized_train_data = train_dataset.map(preprocess_function, batched=True, remove_columns=train_dataset.column_names)\n",
        "tokenized_validation_data = validation_dataset.map(preprocess_function, batched=True, remove_columns=validation_dataset.column_names)"
      ],
      "metadata": {
        "id": "noAdl0vD0LEi"
      },
      "execution_count": null,
      "outputs": []
    },
    {
      "cell_type": "code",
      "source": [
        "# Full model training using best hyperparameters\n",
        "# Set training arguments\n",
        "training_args = TrainingArguments(\n",
        "    output_dir=\"./results\",\n",
        "    eval_strategy=\"epoch\",\n",
        "    logging_strategy=\"epoch\",  # Logs at the end of each epoch\n",
        "    learning_rate=2e-5,\n",
        "    per_device_train_batch_size=16,\n",
        "    per_device_eval_batch_size=16,\n",
        "    num_train_epochs=2,\n",
        "    weight_decay=0.01,\n",
        "    report_to=\"none\"\n",
        ")\n",
        "\n",
        "os.environ[\"WANDB_DISABLED\"] = \"true\"\n",
        "\n",
        "# Initialize Trainer\n",
        "trainer = Trainer(\n",
        "    model=model,\n",
        "    args=training_args,\n",
        "    train_dataset=tokenized_train_data,\n",
        "    eval_dataset=tokenized_validation_data,\n",
        "    tokenizer=tokenizer,\n",
        "    data_collator=default_data_collator\n",
        ")\n",
        "\n",
        "# Train the model\n",
        "trainer.train()\n",
        "\n",
        "# Save the model\n",
        "model.save_pretrained(\"./fine_tuned_roberta_qa\")\n",
        "tokenizer.save_pretrained(\"./fine_tuned_roberta_qa\")\n"
      ],
      "metadata": {
        "colab": {
          "base_uri": "https://localhost:8080/",
          "height": 277
        },
        "id": "JKHKABgygAlc",
        "outputId": "b88cdde1-4197-4f1b-c387-77eca04595fe"
      },
      "execution_count": null,
      "outputs": [
        {
          "output_type": "stream",
          "name": "stderr",
          "text": [
            "C:\\Users\\itama\\AppData\\Local\\Temp\\ipykernel_35428\\1137399547.py:17: FutureWarning: `tokenizer` is deprecated and will be removed in version 5.0.0 for `Trainer.__init__`. Use `processing_class` instead.\n",
            "  trainer = Trainer(\n"
          ]
        },
        {
          "output_type": "display_data",
          "data": {
            "text/plain": [
              "<IPython.core.display.HTML object>"
            ],
            "text/html": [
              "\n",
              "    <div>\n",
              "      \n",
              "      <progress value='9856' max='9856' style='width:300px; height:20px; vertical-align: middle;'></progress>\n",
              "      [9856/9856 43:16, Epoch 2/2]\n",
              "    </div>\n",
              "    <table border=\"1\" class=\"dataframe\">\n",
              "  <thead>\n",
              " <tr style=\"text-align: left;\">\n",
              "      <th>Epoch</th>\n",
              "      <th>Training Loss</th>\n",
              "      <th>Validation Loss</th>\n",
              "    </tr>\n",
              "  </thead>\n",
              "  <tbody>\n",
              "    <tr>\n",
              "      <td>1</td>\n",
              "      <td>1.298500</td>\n",
              "      <td>1.011710</td>\n",
              "    </tr>\n",
              "    <tr>\n",
              "      <td>2</td>\n",
              "      <td>0.854900</td>\n",
              "      <td>0.962260</td>\n",
              "    </tr>\n",
              "  </tbody>\n",
              "</table><p>"
            ]
          },
          "metadata": {}
        },
        {
          "output_type": "execute_result",
          "data": {
            "text/plain": [
              "('./fine_tuned_roberta_qa\\\\tokenizer_config.json',\n",
              " './fine_tuned_roberta_qa\\\\special_tokens_map.json',\n",
              " './fine_tuned_roberta_qa\\\\vocab.json',\n",
              " './fine_tuned_roberta_qa\\\\merges.txt',\n",
              " './fine_tuned_roberta_qa\\\\added_tokens.json',\n",
              " './fine_tuned_roberta_qa\\\\tokenizer.json')"
            ]
          },
          "metadata": {},
          "execution_count": 16
        }
      ]
    },
    {
      "cell_type": "markdown",
      "source": [
        "## MiniLM"
      ],
      "metadata": {
        "id": "ZVRqnhZ80lue"
      }
    },
    {
      "cell_type": "code",
      "source": [
        "model = SentenceTransformer('sentence-transformers/all-MiniLM-L6-v2')"
      ],
      "metadata": {
        "id": "qeF0KXUz0tVK"
      },
      "execution_count": null,
      "outputs": []
    },
    {
      "cell_type": "code",
      "execution_count": null,
      "metadata": {
        "id": "VmSf4aNDiqEE"
      },
      "outputs": [],
      "source": [
        "# Evaluate all the sentences and return their scores\n",
        "def evaluate_sentences(sentences, model, query):\n",
        "  result=[]\n",
        "\n",
        "  sentence_embeddings = model.encode(sentences)\n",
        "  query_embedding = model.encode(query)\n",
        "\n",
        "  for i in range(len(sentences)):\n",
        "    score_par = util.cos_sim(query_embedding, sentence_embeddings[i])[0].item()\n",
        "    result.append((sentences[i],score_par,i))\n",
        "\n",
        "  return result"
      ]
    },
    {
      "cell_type": "markdown",
      "source": [
        "## Threshold Finding"
      ],
      "metadata": {
        "id": "MdjQV0oTh0QQ"
      }
    },
    {
      "cell_type": "markdown",
      "source": [
        "### Success & Failure Scores"
      ],
      "metadata": {
        "id": "_RMqkmmfjVqK"
      }
    },
    {
      "cell_type": "code",
      "source": [
        "# Get doc and query and return the answer\n",
        "def get_answer(doc,query,model):\n",
        "  sentences = sent_tokenize(doc)\n",
        "  scores = evaluate_sentences(sentences, model, query)\n",
        "  best_score = max(scores, key=lambda x: x[1])\n",
        "\n",
        "  return best_score"
      ],
      "metadata": {
        "id": "JUWJHKxgwxh5"
      },
      "execution_count": null,
      "outputs": []
    },
    {
      "cell_type": "code",
      "source": [
        "# Calculate scores for success and failure cases and return them as lists\n",
        "def get_success_failure_scores(model, dataset):\n",
        "\n",
        "  # Calculate the elapsed time\n",
        "  start_t = time.time()\n",
        "\n",
        "  success = []\n",
        "  failure = []\n",
        "  for row in dataset:\n",
        "    context = row[\"context\"]\n",
        "    question = row[\"question\"]\n",
        "    answer = row[\"answers\"][\"text\"][0]\n",
        "    answer_start = row[\"answers\"][\"answer_start\"]\n",
        "\n",
        "    guess, score, i = get_answer(context,question,model)\n",
        "\n",
        "    score = abs(score) # Handle negative vector distance\n",
        "\n",
        "    # Divide into failure scenario and success scenario\n",
        "    # tn\n",
        "    if answer == \"\":\n",
        "      failure.append(score)\n",
        "    else:\n",
        "      # tp\n",
        "      if answer in guess:\n",
        "        success.append(score)\n",
        "      # fp\n",
        "      else:\n",
        "        failure.append(score)\n",
        "\n",
        "\n",
        "  end_t = time.time()\n",
        "\n",
        "  elapsed_t = end_t - start_t\n",
        "  print(f\"Elapsed time: {elapsed_t} seconds\")\n",
        "\n",
        "  return success, failure"
      ],
      "metadata": {
        "id": "xf5Jv1Vn_rRP"
      },
      "execution_count": null,
      "outputs": []
    },
    {
      "cell_type": "code",
      "source": [
        "success, failure = get_success_failure_scores(model, dataset)"
      ],
      "metadata": {
        "colab": {
          "base_uri": "https://localhost:8080/"
        },
        "id": "655RVu6MBoDI",
        "outputId": "a1d21332-24f9-419f-be4c-32419c33c140"
      },
      "execution_count": null,
      "outputs": [
        {
          "output_type": "stream",
          "name": "stdout",
          "text": [
            "Elapsed time: 297.2481381893158 seconds\n"
          ]
        }
      ]
    },
    {
      "cell_type": "code",
      "source": [
        "# Plot scatter graph to show the scatter of the scores\n",
        "# Create a figure and axis\n",
        "plt.figure(figsize=(10, 4))\n",
        "\n",
        "# Plot success points on a higher line (y=2)\n",
        "plt.scatter(success, [2] * len(success), color='green', label='Success', marker='o')\n",
        "\n",
        "# Plot failure points on a lower line (y=1)\n",
        "plt.scatter(failure, [1] * len(failure), color='red', label='Failure', marker='x')\n",
        "\n",
        "# Add labels and title\n",
        "plt.title(\"Success and Failure Points\")\n",
        "plt.xlabel(\"Points\")\n",
        "plt.yticks([1, 2], ['Failure', 'Success'])  # Label the two lines\n",
        "plt.legend()\n",
        "\n",
        "# Display the plot\n",
        "plt.show()"
      ],
      "metadata": {
        "colab": {
          "base_uri": "https://localhost:8080/",
          "height": 410
        },
        "id": "UKuI5w8fH-K-",
        "outputId": "560c5ebe-c0b9-4a4c-bc88-5aff1b7e254d"
      },
      "execution_count": null,
      "outputs": [
        {
          "output_type": "display_data",
          "data": {
            "text/plain": [
              "<Figure size 1000x400 with 1 Axes>"
            ],
            "image/png": "[encoded data removed]"
          },
          "metadata": {}
        }
      ]
    },
    {
      "cell_type": "code",
      "source": [
        "# Create the KDE plot (no bars) for success data\n",
        "sns.kdeplot(success, label='Success', color='green')\n",
        "\n",
        "# Create the KDE plot (no bars) for failure data\n",
        "sns.kdeplot(failure, label='Failure', color='red')\n",
        "\n",
        "# Add labels and title\n",
        "plt.title('Density of Success vs Failure')\n",
        "plt.xlabel('Value')\n",
        "plt.ylabel('Density')\n",
        "\n",
        "# Add legend\n",
        "plt.legend()\n",
        "\n",
        "# Show plot\n",
        "plt.show()"
      ],
      "metadata": {
        "colab": {
          "base_uri": "https://localhost:8080/",
          "height": 472
        },
        "id": "kehm3qUJNI_l",
        "outputId": "b1c09738-f7e7-4998-924e-1c5f8e3a3a74"
      },
      "execution_count": null,
      "outputs": [
        {
          "output_type": "display_data",
          "data": {
            "text/plain": [
              "<Figure size 640x480 with 1 Axes>"
            ],
            "image/png": "[encoded data removed]"
          },
          "metadata": {}
        }
      ]
    },
    {
      "cell_type": "markdown",
      "source": [
        "### Threshold"
      ],
      "metadata": {
        "id": "5ykGqNajjSIe"
      }
    },
    {
      "cell_type": "code",
      "source": [
        "# Calculate threshold using mean\n",
        "threshold_mean = (np.mean(success) + np.mean(failure)) / 2\n",
        "threshold_mean"
      ],
      "metadata": {
        "colab": {
          "base_uri": "https://localhost:8080/"
        },
        "id": "QS-y9I_2WMmQ",
        "outputId": "9016556f-65f2-4721-e608-31518421a190"
      },
      "execution_count": null,
      "outputs": [
        {
          "output_type": "execute_result",
          "data": {
            "text/plain": [
              "0.4347255672892494"
            ]
          },
          "metadata": {},
          "execution_count": 15
        }
      ]
    },
    {
      "cell_type": "code",
      "source": [
        "# Calculate threshold using median\n",
        "threshold_median = (np.median(success) + np.median(failure)) / 2\n",
        "threshold_median"
      ],
      "metadata": {
        "colab": {
          "base_uri": "https://localhost:8080/"
        },
        "id": "7crGuhVzXA11",
        "outputId": "79121ae4-6491-4010-9b8c-6a81376a857f"
      },
      "execution_count": null,
      "outputs": [
        {
          "output_type": "execute_result",
          "data": {
            "text/plain": [
              "0.39663977921009064"
            ]
          },
          "metadata": {},
          "execution_count": 16
        }
      ]
    },
    {
      "cell_type": "code",
      "source": [
        "# Calculate threshold by testing 10000 different threshold and checking their accuracy score\n",
        "\n",
        "# Combine scores and labels\n",
        "all_scores = success + failure\n",
        "labels = [1] * len(success) + [0] * len(failure)  # 1 for success, 0 for failure\n",
        "\n",
        "# Find the best threshold\n",
        "best_accuracy_threshold = None\n",
        "best_accuracy = 0\n",
        "\n",
        "for t in np.linspace(min(all_scores), max(all_scores), 10000):  # Test 10000 thresholds\n",
        "    predictions = [1 if score > t else 0 for score in all_scores]\n",
        "    accuracy = sum(p == l for p, l in zip(predictions, labels)) / len(labels)\n",
        "\n",
        "    if accuracy > best_accuracy:\n",
        "        best_accuracy = accuracy\n",
        "        best_accuracy_threshold = t\n",
        "\n",
        "print(f\"Optimal Accuracy Threshold: {best_accuracy_threshold}\")\n",
        "print(f\"Best Accuracy Score: {best_accuracy}\")"
      ],
      "metadata": {
        "colab": {
          "base_uri": "https://localhost:8080/"
        },
        "id": "O7BUM3h5XHu5",
        "outputId": "527fdb5b-9efb-421e-b4c0-8fb5e971351b"
      },
      "execution_count": null,
      "outputs": [
        {
          "output_type": "stream",
          "name": "stdout",
          "text": [
            "Optimal Accuracy Threshold: 0.3656629267577032\n",
            "Best Accuracy Score: 0.883148761274118\n"
          ]
        }
      ]
    },
    {
      "cell_type": "code",
      "source": [
        "# Combine scores and labels\n",
        "all_scores = success + failure\n",
        "labels = [1] * len(success) + [0] * len(failure)  # 1 for success, 0 for failure\n",
        "\n",
        "# Initialize variables for the best threshold and combined score\n",
        "best_threshold = None\n",
        "best_f1 = 0\n",
        "\n",
        "# Iterate over thresholds\n",
        "for t in np.linspace(min(all_scores), max(all_scores), 10000):\n",
        "    predictions = [1 if score > t else 0 for score in all_scores]\n",
        "\n",
        "    # Calculate true positives, true negatives, false positives, and false negatives\n",
        "    true_positives = sum(1 for p, l in zip(predictions, labels) if p == 1 and l == 1)\n",
        "    true_negatives = sum(1 for p, l in zip(predictions, labels) if p == 0 and l == 0)\n",
        "    false_positives = sum(1 for p, l in zip(predictions, labels) if p == 1 and l == 0)\n",
        "    false_negatives = sum(1 for p, l in zip(predictions, labels) if p == 0 and l == 1)\n",
        "\n",
        "    # Calculate precision\n",
        "    precision = true_positives / (true_positives + false_positives) if true_positives + false_positives > 0 else 0\n",
        "\n",
        "    # Calculate precision\n",
        "    recall = true_positives / (true_positives + false_negatives) if true_positives + false_negatives > 0 else 0\n",
        "\n",
        "    # Calculate F1\n",
        "    f1 = 2 * (precision * recall) / (precision + recall) if precision + recall > 0 else 0\n",
        "\n",
        "    # Calculate accuracy\n",
        "    accuracy = (true_positives + true_negatives) / len(labels)\n",
        "\n",
        "    # Update the best threshold if the combined score is higher\n",
        "    if f1 > best_f1:\n",
        "        best_f1 = f1\n",
        "        best_threshold = t\n",
        "        best_accuracy = accuracy\n",
        "\n",
        "print(f\"Optimal Threshold: {best_threshold}\")\n",
        "print(f\"Best Accuracy Score: {best_accuracy}\")\n",
        "print(f\"Best F1 Score: {best_f1}\")"
      ],
      "metadata": {
        "colab": {
          "base_uri": "https://localhost:8080/"
        },
        "outputId": "985dbe57-3e73-4180-babf-d4086c121579",
        "id": "leO9hw3F_LWO"
      },
      "execution_count": null,
      "outputs": [
        {
          "output_type": "stream",
          "name": "stdout",
          "text": [
            "Optimal Threshold: 0.3656629267577032\n",
            "Best Precision Score: 0.7757945647167204\n",
            "Best Accuracy Score: 0.883148761274118\n",
            "Best Combined Score: 0.8681141679015528\n"
          ]
        }
      ]
    },
    {
      "cell_type": "code",
      "source": [
        "# Calculate threshold using roc curve\n",
        "\n",
        "# Example scores and labels\n",
        "all_scores = success + failure\n",
        "labels = [1] * len(success) + [0] * len(failure)  # 1 for success, 0 for failure\n",
        "\n",
        "# Compute ROC curve\n",
        "fpr, tpr, thresholds = roc_curve(labels, all_scores)\n",
        "\n",
        "# Find the threshold closest to (0, 1) in the ROC curve\n",
        "optimal_idx = np.argmax(tpr - fpr)  # Maximize the true positive rate minus false positive rate\n",
        "optimal_threshold = thresholds[optimal_idx]\n",
        "\n",
        "print(f\"Optimal Threshold: {optimal_threshold}\")\n"
      ],
      "metadata": {
        "colab": {
          "base_uri": "https://localhost:8080/"
        },
        "id": "RcFFbUS3XZUF",
        "outputId": "f320593f-b257-40b8-cc5e-47bff1dde815"
      },
      "execution_count": null,
      "outputs": [
        {
          "output_type": "stream",
          "name": "stdout",
          "text": [
            "Optimal Threshold: 0.3668292164802551\n"
          ]
        }
      ]
    },
    {
      "cell_type": "code",
      "source": [
        "roc_auc = auc(fpr, tpr)\n",
        "\n",
        "# Plot the ROC curve\n",
        "plt.plot(fpr, tpr, color='blue', lw=2, label=f\"ROC Curve (AUC = {roc_auc:.2f})\")\n",
        "plt.plot([0, 1], [0, 1], color='gray', linestyle='--', lw=1)  # Diagonal line\n",
        "plt.xlabel('False Positive Rate')\n",
        "plt.ylabel('True Positive Rate')\n",
        "plt.title('ROC Curve')\n",
        "plt.legend(loc=\"lower right\")\n",
        "plt.grid(alpha=0.3)\n",
        "plt.show()\n",
        "\n",
        "print(f\"AUC: {roc_auc:.2f}\")"
      ],
      "metadata": {
        "colab": {
          "base_uri": "https://localhost:8080/",
          "height": 489
        },
        "id": "6TRszotL-pgY",
        "outputId": "27c9ae04-3270-4d45-e478-e7353b684676"
      },
      "execution_count": null,
      "outputs": [
        {
          "output_type": "display_data",
          "data": {
            "text/plain": [
              "<Figure size 640x480 with 1 Axes>"
            ],
            "image/png": "[encoded data removed]"
          },
          "metadata": {}
        },
        {
          "output_type": "stream",
          "name": "stdout",
          "text": [
            "AUC: 0.93\n"
          ]
        }
      ]
    },
    {
      "cell_type": "code",
      "source": [
        "threshold = optimal_threshold"
      ],
      "metadata": {
        "id": "pH3hG-Gww100"
      },
      "execution_count": null,
      "outputs": []
    },
    {
      "cell_type": "markdown",
      "source": [
        "## Model With Threshold"
      ],
      "metadata": {
        "id": "vnXqpqzmwtqV"
      }
    },
    {
      "cell_type": "code",
      "execution_count": null,
      "metadata": {
        "id": "HdGxGQJ90LYx"
      },
      "outputs": [],
      "source": [
        "# Get doc and query and return the answer\n",
        "def get_answer(doc,query,model):\n",
        "  sentences = sent_tokenize(doc)\n",
        "  scores = evaluate_sentences(sentences, model, query)\n",
        "  best_score = max(scores, key=lambda x: x[1])\n",
        "\n",
        "  answer = best_score[0]\n",
        "  score = best_score[1]\n",
        "  i = best_score[2]\n",
        "\n",
        "  if score < threshold:\n",
        "    return \"Answer not found in context.\"\n",
        "\n",
        "  return answer"
      ]
    },
    {
      "cell_type": "markdown",
      "source": [
        "## Model Comparsion"
      ],
      "metadata": {
        "id": "aCEUKiYcxJLO"
      }
    },
    {
      "cell_type": "markdown",
      "source": [
        "### Testing"
      ],
      "metadata": {
        "id": "q1uWk5DQLUK-"
      }
    },
    {
      "cell_type": "code",
      "source": [
        "# Save miniLM model type for the testing function\n",
        "miniLM_type = type(miniLM_model)"
      ],
      "metadata": {
        "id": "f1TDovnn4X1O"
      },
      "execution_count": null,
      "outputs": []
    },
    {
      "cell_type": "code",
      "source": [
        "# Test the model baset on the given dataset and return confusion matrix\n",
        "def test_model(model, dataset):\n",
        "\n",
        "  # Calculate the elapsed time\n",
        "  start_t = time.time()\n",
        "\n",
        "  tp = tn = fp = fn = 0\n",
        "\n",
        "  for row in dataset:\n",
        "    context = row[\"context\"]\n",
        "    question = row[\"question\"]\n",
        "    answer = row[\"answers\"][\"text\"][0]\n",
        "    answer_start = row[\"answers\"][\"answer_start\"]\n",
        "\n",
        "    # Check for model type, either miniLM or roBERTa\n",
        "    if type(model) == miniLM_type:\n",
        "      guess = get_answer(context,question,model)\n",
        "    else:\n",
        "      guess = answer_question(context,question, roberta_model)\n",
        "\n",
        "    # Check answer, update confusion matrix based on the answer\n",
        "    if guess == \"Answer not found in context.\":\n",
        "      if answer == \"\":\n",
        "        tn+=1\n",
        "      else:\n",
        "        fn+=1\n",
        "    elif answer!=\"\" and (answer in guess or guess in answer):\n",
        "      tp+=1\n",
        "    else:\n",
        "      fp+=1\n",
        "\n",
        "  end_t = time.time()\n",
        "\n",
        "  elapsed_t = end_t - start_t\n",
        "  print(f\"Elapsed time: {elapsed_t} seconds\")\n",
        "\n",
        "  return [[tp, fp], [fn, tn]]"
      ],
      "metadata": {
        "id": "6ZZlHk8ezXcv"
      },
      "execution_count": null,
      "outputs": []
    },
    {
      "cell_type": "code",
      "source": [
        "# Get confusion matrix for roBERTa\n",
        "roberta_results = test_model(roberta_model, dataset)"
      ],
      "metadata": {
        "colab": {
          "base_uri": "https://localhost:8080/"
        },
        "id": "HF2WYkFL45jq",
        "outputId": "b6548c3d-c6ae-48a2-cf7e-09c5b79e4755"
      },
      "execution_count": null,
      "outputs": [
        {
          "output_type": "stream",
          "name": "stdout",
          "text": [
            "Elapsed time: 217.69685292243958 seconds\n"
          ]
        }
      ]
    },
    {
      "cell_type": "code",
      "source": [
        "# Get confusion matrix for miniLM\n",
        "miniLM_results = test_model(miniLM_model, dataset)"
      ],
      "metadata": {
        "colab": {
          "base_uri": "https://localhost:8080/"
        },
        "id": "vSKD1Xi048FD",
        "outputId": "7b09f075-228a-411b-c425-b22ed776746e"
      },
      "execution_count": null,
      "outputs": [
        {
          "output_type": "stream",
          "name": "stdout",
          "text": [
            "Elapsed time: 305.3002927303314 seconds\n"
          ]
        }
      ]
    },
    {
      "cell_type": "markdown",
      "source": [
        "### Results"
      ],
      "metadata": {
        "id": "7Bhx-iekbSNg"
      }
    },
    {
      "cell_type": "code",
      "source": [
        "# Plot confusion matrix\n",
        "def plot_confusion_matrix(matrix, models_name, labels=None):\n",
        "    if labels is None:\n",
        "        labels = [\"Positive\", \"Negative\"]\n",
        "\n",
        "    fig, ax = plt.subplots(figsize=(6, 6))\n",
        "\n",
        "    # Display the matrix\n",
        "    ax.imshow(matrix, cmap=\"Blues\")\n",
        "\n",
        "    # Show the values in the matrix\n",
        "    for i in range(len(matrix)):\n",
        "        for j in range(len(matrix[i])):\n",
        "            ax.text(j, i, str(matrix[i][j]), ha=\"center\", va=\"center\", color=\"black\")\n",
        "\n",
        "    # Add labels\n",
        "    ax.set_xticks(np.arange(len(labels)))\n",
        "    ax.set_yticks(np.arange(len(labels)))\n",
        "    ax.set_xticklabels(labels)\n",
        "    ax.set_yticklabels(labels)\n",
        "\n",
        "    # Label axes\n",
        "    ax.set_xlabel('Predicted Labels')\n",
        "    ax.set_ylabel('True Labels')\n",
        "    ax.set_title(f'Confusion Matrix For {models_name}')\n",
        "\n",
        "    plt.tight_layout()\n",
        "    plt.show()"
      ],
      "metadata": {
        "id": "OR8Wxr8H99xl"
      },
      "execution_count": null,
      "outputs": []
    },
    {
      "cell_type": "code",
      "source": [
        "plot_confusion_matrix(miniLM_results, \"miniLM\", labels=[\"Positive\", \"Negative\"])"
      ],
      "metadata": {
        "colab": {
          "base_uri": "https://localhost:8080/",
          "height": 582
        },
        "id": "5MSwaVZA-NFW",
        "outputId": "3bbe4da1-4e09-4beb-fd4b-639bc76a2770"
      },
      "execution_count": null,
      "outputs": [
        {
          "output_type": "display_data",
          "data": {
            "text/plain": [
              "<Figure size 600x600 with 1 Axes>"
            ],
            "image/png": "[encoded data removed]"
          },
          "metadata": {}
        }
      ]
    },
    {
      "cell_type": "code",
      "source": [
        "plot_confusion_matrix(roberta_results, \"roBERTa\", labels=[\"Positive\", \"Negative\"])"
      ],
      "metadata": {
        "colab": {
          "base_uri": "https://localhost:8080/",
          "height": 582
        },
        "id": "2oLZvcId-Pr6",
        "outputId": "1dbb0300-6d87-4054-a7f0-977027354220"
      },
      "execution_count": null,
      "outputs": [
        {
          "output_type": "display_data",
          "data": {
            "text/plain": [
              "<Figure size 600x600 with 1 Axes>"
            ],
            "image/png": "[encoded data removed]"
          },
          "metadata": {}
        }
      ]
    },
    {
      "cell_type": "code",
      "source": [
        "# Calculate precision, recall, F1, accuracy scores\n",
        "def scores(matrix):\n",
        "  tp = matrix[0][0]\n",
        "  fp = matrix[0][1]\n",
        "  fn = matrix[1][0]\n",
        "  tn = matrix[1][1]\n",
        "\n",
        "  precision = tp/(tp+fp)\n",
        "  recall = tp/(tp+fn)\n",
        "  f1 = 2*precision*recall/(precision+recall)\n",
        "  accuracy = (tp+tn)/(tp+tn+fp+fn)\n",
        "\n",
        "  print(f\"Precision: {precision}\")\n",
        "  print(f\"Recall: {recall}\")\n",
        "  print(f\"F1 Score: {f1}\")\n",
        "  print(f\"Accuracy: {accuracy}\")"
      ],
      "metadata": {
        "id": "mYZUj8Vz-zzS"
      },
      "execution_count": null,
      "outputs": []
    },
    {
      "cell_type": "code",
      "source": [
        "scores(miniLM_results)"
      ],
      "metadata": {
        "colab": {
          "base_uri": "https://localhost:8080/"
        },
        "id": "1xnb8v0aKJDq",
        "outputId": "9bd21e7a-d737-4af3-b9e3-1cc4dd3b7a50"
      },
      "execution_count": null,
      "outputs": [
        {
          "output_type": "stream",
          "name": "stdout",
          "text": [
            "Precision: 0.7768680811808119\n",
            "Recall: 0.9797847585805701\n",
            "F1 Score: 0.8666066375096475\n",
            "Accuracy: 0.8816074894394337\n"
          ]
        }
      ]
    },
    {
      "cell_type": "code",
      "source": [
        "scores(roberta_results)"
      ],
      "metadata": {
        "colab": {
          "base_uri": "https://localhost:8080/"
        },
        "id": "oI_NYbt8KNwG",
        "outputId": "d707934f-f318-494a-f815-48bace2a1274"
      },
      "execution_count": null,
      "outputs": [
        {
          "output_type": "stream",
          "name": "stdout",
          "text": [
            "Precision: 0.830867316251654\n",
            "Recall: 0.9089353862350309\n",
            "F1 Score: 0.8681498240321769\n",
            "Accuracy: 0.8802374700308254\n"
          ]
        }
      ]
    },
    {
      "cell_type": "markdown",
      "source": [
        "## Context Retrievel"
      ],
      "metadata": {
        "id": "UTjTO3v3zIIs"
      }
    },
    {
      "cell_type": "code",
      "source": [
        "documents = list(df[\"initial_processed_text\"])"
      ],
      "metadata": {
        "id": "_zp9G6EZ4nG5"
      },
      "execution_count": null,
      "outputs": []
    },
    {
      "cell_type": "code",
      "source": [
        "documents_embedded = torch.stack(list(df[\"embedded_miniLM_text\"]), dim=0)"
      ],
      "metadata": {
        "id": "hI8HQWYGtm98"
      },
      "execution_count": null,
      "outputs": []
    },
    {
      "cell_type": "code",
      "source": [
        "# Return top documents based on miniLM and query\n",
        "def retrieve_top_documents(embedded_query, documents_embedded, documents, top_k=5):\n",
        "\n",
        "  # Compute cosine similarity scores\n",
        "  cosine_scores_minilm = util.pytorch_cos_sim(embedded_query, documents_embedded)\n",
        "\n",
        "  # Sort by similarity\n",
        "  minilm_sorted_indices = np.argsort(-cosine_scores_minilm.numpy()[0])\n",
        "  minilm_ranked_documents = [documents[i] for i in minilm_sorted_indices]\n",
        "\n",
        "  return minilm_ranked_documents[:top_k]"
      ],
      "metadata": {
        "id": "YJpm0gHx8sl8"
      },
      "execution_count": null,
      "outputs": []
    },
    {
      "cell_type": "code",
      "source": [
        "# Return top chunks based on miniLM and query\n",
        "def retrieve_top_chunks(embedded_query, embedded_chunks, chunks, top_k=5):\n",
        "\n",
        "    # Adjust top_k if it exceeds the number of chunks\n",
        "    top_k = min(top_k, len(chunks))\n",
        "\n",
        "    # Compute cosine similarities\n",
        "    scores = util.cos_sim(embedded_query, embedded_chunks)[0]\n",
        "    top_k_indices = torch.topk(scores, k=top_k).indices\n",
        "\n",
        "    # Return the top-k most relevant chunks\n",
        "    return [(chunks[i], scores[i].item()) for i in top_k_indices]\n"
      ],
      "metadata": {
        "id": "vR-sYHAm98TT"
      },
      "execution_count": null,
      "outputs": []
    },
    {
      "cell_type": "code",
      "source": [
        "# Return top chunk from all documents based on miniLM and query\n",
        "# top_k = (docs, chunks, relevent_chunks)\n",
        "def retrieve_relevent_chunks(query, documents_embedded, documents, retrievel_model, top_k=(5,5,5)):\n",
        "  # Generate embeddings\n",
        "  embedded_query = retrievel_model.encode(query, convert_to_tensor=True)\n",
        "\n",
        "  # Retrieve top documents\n",
        "  top_docs = retrieve_top_documents(embedded_query, documents_embedded, documents, top_k[0])\n",
        "\n",
        "  # Retrieve top chunks for each document\n",
        "  relevent_chunks = []\n",
        "  for doc in top_docs:\n",
        "    i = df[df[\"initial_processed_text\"] == doc].index[0]\n",
        "    chunks_embeddings = df[\"embedded_miniLM_chunks\"][i]\n",
        "    chunks = list(df[\"chunks_list\"][i])\n",
        "    top_chunks = retrieve_top_chunks(embedded_query, chunks_embeddings, chunks, top_k[1])\n",
        "    relevent_chunks.extend(top_chunks)\n",
        "\n",
        "  relevent_chunks = [chunk for chunk, _ in sorted(relevent_chunks, key=lambda x: x[1], reverse=True)][:top_k[2]]\n",
        "\n",
        "  return relevent_chunks\n"
      ],
      "metadata": {
        "id": "2Pi0rzq7Fyfk"
      },
      "execution_count": null,
      "outputs": []
    },
    {
      "cell_type": "markdown",
      "source": [
        "## Final Models"
      ],
      "metadata": {
        "id": "uDk_THhczcnT"
      }
    },
    {
      "cell_type": "markdown",
      "source": [
        "### RoBERTa"
      ],
      "metadata": {
        "id": "53BctM8Zzfzk"
      }
    },
    {
      "cell_type": "code",
      "source": [
        "# Load the pre-trained fine-tuned RoBERTa model and tokenizer\n",
        "model_name = \"./fine_tuned_roberta_qa\"\n",
        "roberta_tokenizer = RobertaTokenizerFast.from_pretrained(model_name)\n",
        "roberta_model = RobertaForQuestionAnswering.from_pretrained(model_name)"
      ],
      "metadata": {
        "id": "ky3oBogAxcCf"
      },
      "execution_count": null,
      "outputs": []
    },
    {
      "cell_type": "code",
      "source": [
        "# Return best answer from documents based on roberta and query\n",
        "def answer_question_roberta(relevant_chunks, query, model, tokenizer, retriever_model, batch_size=4, top_k=5):\n",
        "    best_answer = None\n",
        "    best_score = float('-inf')\n",
        "    inputs_cache = None  # Cache for inputs corresponding to the best answer\n",
        "\n",
        "    # Divide chunks into batches\n",
        "    batches = [relevant_chunks[i:i + batch_size] for i in range(0, len(relevant_chunks), batch_size)]\n",
        "\n",
        "    for batch in batches:\n",
        "        # Prepare inputs for the batch\n",
        "        batch_inputs = tokenizer(\n",
        "            [query] * len(batch),  # Repeat the query for each chunk\n",
        "            batch,\n",
        "            return_tensors='pt', truncation=True, padding=True, max_length=256\n",
        "        )\n",
        "\n",
        "        # Forward pass through the QA model for the batch\n",
        "        with torch.no_grad():\n",
        "            outputs = model(**batch_inputs)\n",
        "\n",
        "        # Extract logits\n",
        "        start_logits = outputs.start_logits\n",
        "        end_logits = outputs.end_logits\n",
        "\n",
        "        for i, chunk in enumerate(batch):\n",
        "            start_index = torch.argmax(start_logits[i]).item()\n",
        "            end_index = torch.argmax(end_logits[i]).item()\n",
        "\n",
        "            if start_index == 0:\n",
        "              continue\n",
        "\n",
        "            # Check for invalid answer length\n",
        "            inputs_len = batch_inputs['input_ids'][i][start_index:end_index + 1].size()[0]\n",
        "            if inputs_len < 2:\n",
        "                continue\n",
        "\n",
        "            # Calculate the confidence score\n",
        "            confidence_score = start_logits[i, start_index].item() + end_logits[i, end_index].item()\n",
        "\n",
        "            # Update the best answer if the confidence score is higher\n",
        "            if confidence_score > best_score:\n",
        "                best_score = confidence_score\n",
        "                inputs_cache = batch_inputs\n",
        "                best_answer_indices = (start_index, end_index)\n",
        "                best_chunk_index = i  # Store the index of the best chunk\n",
        "\n",
        "    if inputs_cache is None:\n",
        "        return \"Answer not found in context.\"\n",
        "\n",
        "    # Decode the best answer\n",
        "    start_index, end_index = best_answer_indices\n",
        "    answer_tokens = inputs_cache['input_ids'][best_chunk_index][start_index:end_index + 1]  # +1 to include end index\n",
        "    best_answer = tokenizer.decode(answer_tokens, skip_special_tokens=True)\n",
        "\n",
        "    return best_answer\n"
      ],
      "metadata": {
        "id": "K6HJZvsBPRWD"
      },
      "execution_count": null,
      "outputs": []
    },
    {
      "cell_type": "markdown",
      "source": [
        "### MiniLM"
      ],
      "metadata": {
        "id": "BeyOapkzz1SF"
      }
    },
    {
      "cell_type": "code",
      "execution_count": null,
      "metadata": {
        "id": "YwZaL2psz290"
      },
      "outputs": [],
      "source": [
        "# Evaluate all the sentences and return their scores\n",
        "def retrieve_relevent_sentences(embedded_query, embedded_sentences, sentences, top_k=1):\n",
        "\n",
        "  # Compute cosine similarities\n",
        "  scores = util.cos_sim(embedded_query, embedded_sentences)[0]\n",
        "  top_k_indices = torch.topk(scores, k=top_k).indices\n",
        "\n",
        "  # Return the top-k most relevant chunks\n",
        "  return [(sentences[i], scores[i].item()) for i in top_k_indices][0]"
      ]
    },
    {
      "cell_type": "code",
      "source": [
        "# Return answer based on miniLM and query\n",
        "def answer_question_miniLM(query, documents_embedded, documents, model):\n",
        "    # Encode the query\n",
        "    embedded_query = model.encode(query, convert_to_tensor=True)\n",
        "\n",
        "    # Retrieve the top documents\n",
        "    top_docs = retrieve_top_documents(embedded_query, documents_embedded, documents, top_k=5)\n",
        "\n",
        "    # List to store top sentences\n",
        "    relevent_sentences = []\n",
        "\n",
        "    # Loop through the top documents to extract the most relevant sentences\n",
        "    for doc in top_docs:\n",
        "        # Find the index of the document in the dataframe\n",
        "        i = df[df[\"initial_processed_text\"] == doc].index[0]\n",
        "        # Retrieve the embedded sentences and the list of sentences for the document\n",
        "        embedded_sentences = df[\"embedded_miniLM_sentences\"][i]\n",
        "        sentences = list(df[\"sentences_list\"][i])\n",
        "\n",
        "        # Find the most relevant sentence\n",
        "        best_sentence = retrieve_relevent_sentences(embedded_query, embedded_sentences, sentences, 1)\n",
        "\n",
        "        # Extract the sentence and its similarity score\n",
        "        answer = best_sentence[0]\n",
        "        score = best_sentence[1]\n",
        "\n",
        "        # If the similarity score is below the threshold, skip this sentence\n",
        "        if score < threshold:\n",
        "            continue\n",
        "        else:\n",
        "            # Add the relevant sentence to the list\n",
        "            relevent_sentences.append(best_sentence)\n",
        "\n",
        "    # If no relevant sentences are found, return no answer\n",
        "    if not relevent_sentences:\n",
        "        return \"Answer not found in context.\"\n",
        "\n",
        "    # Sort the relevant sentences by score and return the best answer\n",
        "    return [answer for answer, _ in sorted(relevent_sentences, key=lambda x: x[1], reverse=True)][0]\n"
      ],
      "metadata": {
        "id": "IDC0carGz290"
      },
      "execution_count": null,
      "outputs": []
    },
    {
      "cell_type": "markdown",
      "source": [
        "# Answer Transformation"
      ],
      "metadata": {
        "id": "f-C2u2d1x269"
      }
    },
    {
      "cell_type": "markdown",
      "source": [
        "## Data Creation"
      ],
      "metadata": {
        "id": "fG89bR0uyPAJ"
      }
    },
    {
      "cell_type": "code",
      "source": [
        "# Test the model baset on the given dataset and return df with data\n",
        "def get_model_answers_df(model, dataset):\n",
        "\n",
        "  context_list = []\n",
        "  question_list = []\n",
        "  answer_list = []\n",
        "  guess_list = []\n",
        "  scores = []\n",
        "\n",
        "  # Calculate the elapsed time\n",
        "  start_t = time.time()\n",
        "\n",
        "  tp = tn = fp = fn = 0\n",
        "\n",
        "  for row in dataset:\n",
        "    context = row[\"context\"]\n",
        "    question = row[\"question\"]\n",
        "    answer = row[\"answers\"][\"text\"][0]\n",
        "    answer_start = row[\"answers\"][\"answer_start\"]\n",
        "\n",
        "    # Check for model type, either miniLM or roBERTa\n",
        "    if type(model) == miniLM_type:\n",
        "      guess = get_answer(context,question,model)\n",
        "    else:\n",
        "      guess = answer_question(context,question, roberta_model)\n",
        "\n",
        "    # Check answer, update confusion matrix based on the answer\n",
        "    if guess == \"Answer not found in context.\":\n",
        "      if answer == \"\":\n",
        "        scores.append(\"tn\")\n",
        "      else:\n",
        "        scores.append(\"fn\")\n",
        "    elif answer!=\"\" and (answer in guess or guess in answer):\n",
        "      scores.append(\"tp\")\n",
        "    else:\n",
        "      scores.append(\"fp\")\n",
        "\n",
        "    context_list.append(context)\n",
        "    question_list.append(question)\n",
        "    answer_list.append(answer)\n",
        "    guess_list.append(guess)\n",
        "\n",
        "  end_t = time.time()\n",
        "\n",
        "  elapsed_t = end_t - start_t\n",
        "  print(f\"Elapsed time: {elapsed_t} seconds\")\n",
        "\n",
        "  return pd.DataFrame({\"context\": context_list, \"question\": question_list, \"answer\": answer_list, \"guess\": guess_list, \"score\": scores})"
      ],
      "metadata": {
        "id": "PACg52nvMMf9"
      },
      "execution_count": null,
      "outputs": []
    },
    {
      "cell_type": "code",
      "source": [
        "df_miniLM = get_model_answers_df(miniLM_model, dataset)\n",
        "df_roberta = get_model_answers_df(roberta_model, dataset)\n",
        "\n",
        "df_miniLM_experiment = df_miniLM.loc[df_miniLM['guess'] != 'Answer not found in context.'][:20].reset_index(drop = True)\n",
        "df_roberta_experiment = df_roberta.loc[df_roberta['guess'] != 'Answer not found in context.'][:20].reset_index(drop = True)"
      ],
      "metadata": {
        "colab": {
          "base_uri": "https://localhost:8080/"
        },
        "id": "gjTtNVEcMxr7",
        "outputId": "70fc3282-add0-464b-8bf3-2fd977239bec"
      },
      "execution_count": null,
      "outputs": [
        {
          "output_type": "stream",
          "name": "stdout",
          "text": [
            "Elapsed time: 451.5097961425781 seconds\n",
            "Elapsed time: 340.79610681533813 seconds\n"
          ]
        }
      ]
    },
    {
      "cell_type": "markdown",
      "source": [
        "## Model Building & Testing"
      ],
      "metadata": {
        "id": "qzc9xuK0e0eX"
      }
    },
    {
      "cell_type": "code",
      "source": [
        "# Load model and tokenizer\n",
        "model_name = \"tuner007/pegasus_paraphrase\"\n",
        "tokenizer = PegasusTokenizer.from_pretrained(model_name)\n",
        "model = PegasusForConditionalGeneration.from_pretrained(model_name)"
      ],
      "metadata": {
        "colab": {
          "base_uri": "https://localhost:8080/",
          "height": 333,
          "referenced_widgets": [
            "a7e56ca9693d4aeb932000a2d2e22b8d",
            "fbf25f4d005640cf963a2e2320b6ae26",
            "4d7ff15b1ccd45a0826e7c0c3ede7eba",
            "58c131c693854ed881e4bb06a5776dd0",
            "49283987f5ff4d17b819d4cc299735c6",
            "7fc093ecbb6b4aedb9376b2b9e80e67c",
            "238cfd210df54efaa4ee727678d20587",
            "f532c2e72c5546c99c0f52be44584a86",
            "add4f3384f4245449ce4207118ee88a9",
            "94f84df6fe334f069bd74079b8bf080d",
            "a364b9c6289c49caa10671ba506d7c24",
            "d60a3879209343659e206cf9c4d7a28e",
            "4a7e37947a9149ac9e186462a8621a48",
            "c46a6523192d4089962c9f1b30c2155e",
            "887b1de5265f47ed9b03567d0eeb3ae5",
            "60a1732d85be40bd934b8c61b2d9919e",
            "987577ca2ef14b8c9fecf758cf8e6e4b",
            "c436ada955b147d7aec2074531bbc20e",
            "d7b5ac4a6f8d4e27a38012db55141394",
            "8f427dac0403491487fdc18ae8fdd5b3",
            "881c82b07bcb4387bf2b822c37343542",
            "bbc12b212b0145879123a0a3a0564628",
            "7fe8b7e52c2e45ed88971186aa86d99b",
            "ee81646600de4667ab3ed2cb106829ee",
            "027d75ea4bea422d8c000a0427674b9c",
            "7b26eed6c73e49cda5382b2c952a3e97",
            "9c3d37c1e17b4b849922aa46846bab5d",
            "839d2bd2eb07415997f3cefccd9a04ff",
            "d0170ac47c8042e0892542f468fbb860",
            "65951eefffa84cbe8eeb9eba612ed654",
            "9e6f8dc5b78747a991ac880eb808c8d3",
            "f195c17477304de4b0af5915bae00324",
            "b47ffe2caff94c579f15ee62138414c1",
            "ec229c041b4444d3a85f29ca74f5cd55",
            "a3680a3485d046e6be9f62bf91d29297",
            "eab890743e664a20a195ab09daaa235a",
            "85c893380865474481847d1cc1c32bfe",
            "e3294b3b5c8b487dbe3717d0d8fdc63f",
            "a42902e3481247b9a094c4fe960a2619",
            "6e667cfb67bd46199f1c4597cc7ac7da",
            "e278043e6e324e1ea4be0b3ebe0551dc",
            "e20fbf62e38f4dd2900635dacadc2915",
            "af9deb42b6ca477b9b6fbe4bf54fc2bd",
            "c4c2d89199b24f84b19bac9b9cc1e5c7",
            "6563776c11af47048907dd9a12f4033f",
            "d26b7c02945e494da6476fa5963bae36",
            "97b26b7e976a4d0596b70751bccf65f7",
            "5c8ceccf572140648acdc7b14dbb859c",
            "0f3839c642d843b986791bd363ef7b28",
            "765de039953a44f09c9f199ecf21deea",
            "71f60e6c23804233a2afda6e4be0dc6e",
            "6599ae87962444a1800a9f02943bf4f5",
            "583de1a96c1345fba3f59b4fc6a16775",
            "94f7ba442ea64ac0ba042b56fd050f48",
            "5ce3eb9d501f47feaabbabcce08d3cee"
          ]
        },
        "id": "wgE-d-trKlm6",
        "outputId": "741ede60-7616-4212-c502-df0a4de05659"
      },
      "execution_count": null,
      "outputs": [
        {
          "output_type": "stream",
          "name": "stderr",
          "text": [
            "/usr/local/lib/python3.10/dist-packages/huggingface_hub/utils/_auth.py:94: UserWarning: \n",
            "The secret `HF_TOKEN` does not exist in your Colab secrets.\n",
            "To authenticate with the Hugging Face Hub, create a token in your settings tab (https://huggingface.co/settings/tokens), set it as secret in your Google Colab and restart your session.\n",
            "You will be able to reuse this secret in all of your notebooks.\n",
            "Please note that authentication is recommended but still optional to access public models or datasets.\n",
            "  warnings.warn(\n"
          ]
        },
        {
          "output_type": "display_data",
          "data": {
            "text/plain": [
              "tokenizer_config.json:   0%|          | 0.00/86.0 [00:00<?, ?B/s]"
            ],
            "application/vnd.jupyter.widget-view+json": {
              "version_major": 2,
              "version_minor": 0,
              "model_id": "a7e56ca9693d4aeb932000a2d2e22b8d"
            }
          },
          "metadata": {}
        },
        {
          "output_type": "display_data",
          "data": {
            "text/plain": [
              "spiece.model:   0%|          | 0.00/1.91M [00:00<?, ?B/s]"
            ],
            "application/vnd.jupyter.widget-view+json": {
              "version_major": 2,
              "version_minor": 0,
              "model_id": "d60a3879209343659e206cf9c4d7a28e"
            }
          },
          "metadata": {}
        },
        {
          "output_type": "display_data",
          "data": {
            "text/plain": [
              "special_tokens_map.json:   0%|          | 0.00/65.0 [00:00<?, ?B/s]"
            ],
            "application/vnd.jupyter.widget-view+json": {
              "version_major": 2,
              "version_minor": 0,
              "model_id": "7fe8b7e52c2e45ed88971186aa86d99b"
            }
          },
          "metadata": {}
        },
        {
          "output_type": "display_data",
          "data": {
            "text/plain": [
              "config.json:   0%|          | 0.00/1.14k [00:00<?, ?B/s]"
            ],
            "application/vnd.jupyter.widget-view+json": {
              "version_major": 2,
              "version_minor": 0,
              "model_id": "ec229c041b4444d3a85f29ca74f5cd55"
            }
          },
          "metadata": {}
        },
        {
          "output_type": "display_data",
          "data": {
            "text/plain": [
              "pytorch_model.bin:   0%|          | 0.00/2.28G [00:00<?, ?B/s]"
            ],
            "application/vnd.jupyter.widget-view+json": {
              "version_major": 2,
              "version_minor": 0,
              "model_id": "6563776c11af47048907dd9a12f4033f"
            }
          },
          "metadata": {}
        },
        {
          "output_type": "stream",
          "name": "stderr",
          "text": [
            "Some weights of PegasusForConditionalGeneration were not initialized from the model checkpoint at tuner007/pegasus_paraphrase and are newly initialized: ['model.decoder.embed_positions.weight', 'model.encoder.embed_positions.weight']\n",
            "You should probably TRAIN this model on a down-stream task to be able to use it for predictions and inference.\n"
          ]
        },
        {
          "output_type": "stream",
          "name": "stdout",
          "text": [
            "full answer: what is the capital of France\n"
          ]
        }
      ]
    },
    {
      "cell_type": "code",
      "source": [
        "# Define different sentence structures\n",
        "sentence_structures = [\n",
        "    (\"Q&A\", lambda q, g: f\"Question: {q[:-1]}. Answer: {g}\"),  # Format with question and answer explicitly labeled\n",
        "    (\"Comma\", lambda q, g: f\"{q[:-1]}, {g}\"),                  # Simple concatenation\n",
        "    (\"Formal\", lambda q, g: f\"The answer to '{q[:-1]}' is {g}\"),  # Formal statement\n",
        "    (\"Answer First\", lambda q, g: f\"{g} is the answer to the question: {q[:-1]}.\"),  # Answer first with statement\n",
        "    (\"Answer First Simple\", lambda q, g: f\"{g} {q}\"),          # Answer first\n",
        "    (\"Question First Simple\", lambda q, g: f\"{q}{g}\"),         # Question first\n",
        "    (\"Answer Only\", lambda q, g: f\"{g}\")                       # Answer only\n",
        "]\n",
        "\n",
        "# Generate paraphrase for each structure\n",
        "def generate_paraphrases(row):\n",
        "    results = []\n",
        "    for structure_name, structure_fn in sentence_structures:\n",
        "        try:\n",
        "            # Create input sentence using the current structure\n",
        "            sentence = structure_fn(row['question'], row['guess'])\n",
        "\n",
        "            # Tokenize input with truncation\n",
        "            input_ids = tokenizer.encode(\n",
        "                sentence,\n",
        "                return_tensors=\"pt\",\n",
        "                truncation=True,\n",
        "            )\n",
        "\n",
        "            # Generate paraphrased text\n",
        "            paraphrase_ids = model.generate(\n",
        "                input_ids,\n",
        "                num_beams=3,\n",
        "                max_length=100,\n",
        "                early_stopping=True\n",
        "            )\n",
        "\n",
        "            # Decode the output\n",
        "            paraphrase = tokenizer.decode(paraphrase_ids[0], skip_special_tokens=True)\n",
        "            results.append((structure_name, sentence, paraphrase))\n",
        "        except Exception as e:\n",
        "            results.append((structure_name, sentence, f\"[Error: {e}]\"))\n",
        "    return results\n"
      ],
      "metadata": {
        "id": "Ep2HhcbWgsyA"
      },
      "execution_count": null,
      "outputs": []
    },
    {
      "cell_type": "code",
      "source": [
        "def results_into_df(df):\n",
        "  # Generate paraphrases for all rows and expand the DataFrame\n",
        "  expanded_rows = []\n",
        "  for _, row in df.iterrows():\n",
        "      paraphrases = generate_paraphrases(row)\n",
        "      for structure_name, input_sentence, paraphrase in paraphrases:\n",
        "          expanded_rows.append({\n",
        "              \"question\": row[\"question\"],\n",
        "              \"guess\": row[\"guess\"],\n",
        "              \"structure_name\": structure_name,\n",
        "              \"input_sentence\": input_sentence,\n",
        "              \"paraphrase\": paraphrase\n",
        "          })\n",
        "\n",
        "  # Update DataFrame with the expanded rows\n",
        "  df = pd.DataFrame(expanded_rows)\n",
        "\n",
        "  # Sort by sentence structure\n",
        "  df = df.sort_values(by=\"structure_name\")\n",
        "\n",
        "  return df"
      ],
      "metadata": {
        "id": "89auLXkadbrs"
      },
      "execution_count": null,
      "outputs": []
    },
    {
      "cell_type": "code",
      "source": [
        "# Save the resulting DataFrame to a CSV file\n",
        "output_path_roberta = \"paraphrased_expanded_roberta.csv\"\n",
        "results_into_df(df_roberta_experiment).to_csv(output_path_roberta, index=False)\n",
        "\n",
        "output_path_minilm = \"paraphrased_expanded_miniLM.csv\"\n",
        "results_into_df(df_miniLM_expanded).to_csv(output_path_minilm, index=False)"
      ],
      "metadata": {
        "id": "A28mXGMLnv5B"
      },
      "execution_count": null,
      "outputs": []
    },
    {
      "cell_type": "markdown",
      "source": [
        "## Final Model"
      ],
      "metadata": {
        "id": "KtsXxNBTz_Qr"
      }
    },
    {
      "cell_type": "code",
      "source": [
        "# Return transformed answer using answer and query\n",
        "def transform_answer(answer, query, model, tokenizer):\n",
        "  # Create input sentence using the current structure\n",
        "  sentence = f\"Question: {query}. Answer: {answer}\"\n",
        "\n",
        "  # Tokenize input with truncation\n",
        "  input_ids = tokenizer_pegasus.encode(\n",
        "    sentence,\n",
        "    return_tensors=\"pt\",\n",
        "    truncation=True,\n",
        "  )\n",
        "\n",
        "  # Generate paraphrased text\n",
        "  paraphrase_ids = model_pegasus.generate(\n",
        "    input_ids,\n",
        "    num_beams=10,\n",
        "    max_length=60,\n",
        "    early_stopping=True\n",
        "  )\n",
        "\n",
        "  # Decode the output\n",
        "  paraphrase = tokenizer_pegasus.decode(paraphrase_ids[0], skip_special_tokens=True)\n",
        "\n",
        "  # Check if model return unwanted \"Answer: \", if yes, removes it\n",
        "  if paraphrase.startswith(\"Answer: \"):\n",
        "    paraphrase = paraphrase[len(\"Answer: \"):]\n",
        "\n",
        "  return paraphrase"
      ],
      "metadata": {
        "id": "2TwwKBgR0DeV"
      },
      "execution_count": null,
      "outputs": []
    },
    {
      "cell_type": "markdown",
      "source": [
        "# Final UI"
      ],
      "metadata": {
        "id": "PbWNrXVpW7Rm"
      }
    },
    {
      "cell_type": "code",
      "source": [
        "# Define the widgets\n",
        "corrected_toggle = widgets.ToggleButtons(\n",
        "    options=[\"Corrected\", \"Uncorrected\"],\n",
        "    description=\"Query:\",\n",
        "    value=\"Corrected\"\n",
        ")\n",
        "model_selector = widgets.ToggleButtons(\n",
        "    options=[\"MiniLM\", \"RoBERTa\"],\n",
        "    description=\"Model:\",\n",
        "    value=\"MiniLM\"\n",
        ")\n",
        "paraphrase_toggle = widgets.ToggleButtons(\n",
        "    options=[\"Paraphrased\", \"Original\"],\n",
        "    description=\"Answer:\",\n",
        "    value=\"Paraphrased\"\n",
        ")"
      ],
      "metadata": {
        "id": "Ui6UYCZ9-cZr"
      },
      "execution_count": null,
      "outputs": []
    },
    {
      "cell_type": "code",
      "source": [
        "# Define the callback function\n",
        "def on_run_button_click(b):\n",
        "    with output_area:\n",
        "        clear_output(wait=True)  # Clear output area before printing\n",
        "        query = query_input.value\n",
        "        use_corrected = corrected_toggle.value == \"Corrected\"\n",
        "        use_minilm = model_selector.value == \"MiniLM\"\n",
        "        use_paraphrased = paraphrase_toggle.value == \"Paraphrased\"\n",
        "\n",
        "        # Display a loading animation like a spinning circle\n",
        "        loading_html = \"\"\"\n",
        "        <div style='display: flex; align-items: center; justify-content: center; height: 100px;'>\n",
        "            <div class=\"spinner\"></div>\n",
        "        </div>\n",
        "        <style>\n",
        "            .spinner {\n",
        "                border: 5px solid rgba(0,0,0,0.1);\n",
        "                border-radius: 50%;\n",
        "                border-top: 5px solid #3498db;\n",
        "                width: 30px;\n",
        "                height: 30px;\n",
        "                animation: spin 1s linear infinite;\n",
        "            }\n",
        "            @keyframes spin {\n",
        "                0% { transform: rotate(0deg); }\n",
        "                100% { transform: rotate(360deg); }\n",
        "            }\n",
        "        </style>\n",
        "        \"\"\"\n",
        "        display(HTML(loading_html))\n",
        "\n",
        "        # Clear the answer variable\n",
        "        answer = None\n",
        "\n",
        "        if use_corrected:\n",
        "            beam_width = 3\n",
        "            query = \" \".join(correct_spelling_error(query, vocab, beam_width, trigram_counts, bigram_counts, unigram_counts)[1])\n",
        "\n",
        "        relevant_chunks = retrieve_relevent_chunks(query, documents_embedded, documents, miniLM_model, (10,10,4))\n",
        "\n",
        "        if use_minilm:\n",
        "            answer = answer_question_miniLM(query, documents_embedded, documents, miniLM_model)\n",
        "        else:\n",
        "            answer = answer_question_roberta(relevant_chunks, query, roberta_model, roberta_tokenizer, miniLM_model, batch_size=8)\n",
        "\n",
        "        if use_paraphrased:\n",
        "            answer = transform_answer(answer, query, model_pegasus, tokenizer_pegasus)\n",
        "\n",
        "        # If there's an answer, remove the loading spinner\n",
        "        if answer:\n",
        "            clear_output(wait=True)\n",
        "\n",
        "        # Display results in a formatted way\n",
        "        display(HTML(f\"<div style='border: 1px solid #ccc; padding: 5px; margin-top: 10px; border-radius: 5px; background-color: #f9f9f9; width: 50%;'>\"\n",
        "                     f\"<p style='color: #333;'>{answer}</p>\"\n",
        "                     f\"</div>\"))"
      ],
      "metadata": {
        "id": "FPm49ogSB0ND"
      },
      "execution_count": null,
      "outputs": []
    },
    {
      "cell_type": "code",
      "source": [
        "# Define widgets\n",
        "run_button = widgets.Button(description=\"Run\", button_style='success')\n",
        "output_area = widgets.Output()\n",
        "query_input = widgets.Text(description=\"Query:\")\n",
        "\n",
        "# Display the widgets\n",
        "display(query_input, corrected_toggle, model_selector, paraphrase_toggle, run_button, output_area)\n",
        "\n",
        "# Attach the callback to the button\n",
        "run_button.on_click(on_run_button_click)"
      ],
      "metadata": {
        "colab": {
          "base_uri": "https://localhost:8080/",
          "height": 225,
          "referenced_widgets": [
            "b393212990e94afd933a67c64969ec81",
            "6addef4d856042f1bcd3c6753af73486",
            "b0ae83611f33468aa894050751860917",
            "c8ca90ee3f8b4261873d18b94925460d",
            "1d6e97d854674c8897b0e5a302e4d9bd",
            "d9d3398cd158418ebb2f771ebc8a6b7f",
            "724091891ab84f7f8d2b3b85640799a6",
            "6decc60d2f7b446e864e66bce2121fdc",
            "a1b1f292b4534c86b3b6079162bfa7bd",
            "d380fd12008948cfaae92cbc6e88c858",
            "542afbde029f46c5b7b453cde539ff2d",
            "cf2eaa5b4c1a4ef9b2e85eee17d25f61",
            "044d694a96be4108b2122b5bd522600f",
            "419e81abe8244e7bbb716d7b86a7876b",
            "3df613389a3b47d6b732f28f567695d9",
            "6fd119a3aa994491b4a3a96b19f32761",
            "91145430a5fd47868d33dd04a72ccf23"
          ]
        },
        "id": "i9LOTfbB-fZ9",
        "outputId": "fa0f9837-8d53-4c5b-a508-f30c4bc1cdc0"
      },
      "execution_count": null,
      "outputs": [
        {
          "output_type": "display_data",
          "data": {
            "text/plain": [
              "Text(value='', description='Query:')"
            ],
            "application/vnd.jupyter.widget-view+json": {
              "version_major": 2,
              "version_minor": 0,
              "model_id": "b393212990e94afd933a67c64969ec81"
            }
          },
          "metadata": {}
        },
        {
          "output_type": "display_data",
          "data": {
            "text/plain": [
              "ToggleButtons(description='Query:', options=('Corrected', 'Uncorrected'), value='Corrected')"
            ],
            "application/vnd.jupyter.widget-view+json": {
              "version_major": 2,
              "version_minor": 0,
              "model_id": "c8ca90ee3f8b4261873d18b94925460d"
            }
          },
          "metadata": {}
        },
        {
          "output_type": "display_data",
          "data": {
            "text/plain": [
              "ToggleButtons(description='Model:', index=1, options=('MiniLM', 'RoBERTa'), value='RoBERTa')"
            ],
            "application/vnd.jupyter.widget-view+json": {
              "version_major": 2,
              "version_minor": 0,
              "model_id": "724091891ab84f7f8d2b3b85640799a6"
            }
          },
          "metadata": {}
        },
        {
          "output_type": "display_data",
          "data": {
            "text/plain": [
              "ToggleButtons(description='Answer:', index=1, options=('Paraphrased', 'Original'), value='Original')"
            ],
            "application/vnd.jupyter.widget-view+json": {
              "version_major": 2,
              "version_minor": 0,
              "model_id": "d380fd12008948cfaae92cbc6e88c858"
            }
          },
          "metadata": {}
        },
        {
          "output_type": "display_data",
          "data": {
            "text/plain": [
              "Button(button_style='success', description='Run', style=ButtonStyle())"
            ],
            "application/vnd.jupyter.widget-view+json": {
              "version_major": 2,
              "version_minor": 0,
              "model_id": "044d694a96be4108b2122b5bd522600f"
            }
          },
          "metadata": {}
        },
        {
          "output_type": "display_data",
          "data": {
            "text/plain": [
              "Output()"
            ],
            "application/vnd.jupyter.widget-view+json": {
              "version_major": 2,
              "version_minor": 0,
              "model_id": "6fd119a3aa994491b4a3a96b19f32761"
            }
          },
          "metadata": {}
        }
      ]
    }
  ]
}